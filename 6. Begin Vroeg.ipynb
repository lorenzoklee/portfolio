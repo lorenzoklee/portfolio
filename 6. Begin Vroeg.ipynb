{
 "cells": [
  {
   "cell_type": "markdown",
   "id": "f351c786",
   "metadata": {},
   "source": [
    "# Begin vroeg\n",
    "Waarom het belangrijk is om vroeg te beginnen met je persoonlijke financiën. We gaan dieper in op salarisverhoging en waarom het begin zo moeilijk is.\n",
    "\n",
    "### Hoofdvraag\n",
    "Wat voor invloed heeft starttijd op het totale vermogen tot het pensioen?"
   ]
  },
  {
   "cell_type": "markdown",
   "id": "d7245664",
   "metadata": {},
   "source": [
    "## 6.1 Sparen vs Beleggen\n",
    "Aannames\n",
    "- startsalaris: 25.000\n",
    "- spaarpercentage: 15%\n",
    "- rendement op investeringen: 5%\n",
    "- max jaren: 20 (kunnen we ons makkelijker voorstellen, voor de meeste lezer ongeveer hun leeftijd)"
   ]
  },
  {
   "cell_type": "code",
   "execution_count": 1,
   "id": "eb055a44",
   "metadata": {},
   "outputs": [],
   "source": [
    "import pandas as pd\n",
    "import matplotlib.pyplot as plt\n",
    "import numpy as np"
   ]
  },
  {
   "cell_type": "code",
   "execution_count": 2,
   "id": "a21e0b21",
   "metadata": {},
   "outputs": [],
   "source": [
    "start = 25000\n",
    "spaarperc = 0.15\n",
    "rendement = 1.05\n",
    "max_jaren = 20"
   ]
  },
  {
   "cell_type": "code",
   "execution_count": 14,
   "id": "9f8bf0bc",
   "metadata": {},
   "outputs": [],
   "source": [
    "tijd = []\n",
    "for num in range(1,max_jaren+1):\n",
    "    tijd.append(num)"
   ]
  },
  {
   "cell_type": "code",
   "execution_count": 4,
   "id": "4d805925",
   "metadata": {},
   "outputs": [
    {
     "data": {
      "text/plain": [
       "[3750.0,\n",
       " 7500.0,\n",
       " 11250.0,\n",
       " 15000.0,\n",
       " 18750.0,\n",
       " 22500.0,\n",
       " 26250.0,\n",
       " 30000.0,\n",
       " 33750.0,\n",
       " 37500.0,\n",
       " 41250.0,\n",
       " 45000.0,\n",
       " 48750.0,\n",
       " 52500.0,\n",
       " 56250.0,\n",
       " 60000.0,\n",
       " 63750.0,\n",
       " 67500.0,\n",
       " 71250.0,\n",
       " 75000.0]"
      ]
     },
     "execution_count": 4,
     "metadata": {},
     "output_type": "execute_result"
    }
   ],
   "source": [
    "sparen = []\n",
    "for num in range(1, max_jaren+1):\n",
    "    spaargeld = start*spaarperc*num\n",
    "    sparen.append(spaargeld)\n",
    "sparen"
   ]
  },
  {
   "cell_type": "code",
   "execution_count": 5,
   "id": "cc563389",
   "metadata": {},
   "outputs": [
    {
     "data": {
      "text/plain": [
       "[3750.0,\n",
       " 7687.5,\n",
       " 11821.875,\n",
       " 16162.96875,\n",
       " 20721.1171875,\n",
       " 25507.173046875,\n",
       " 30532.53169921875,\n",
       " 35809.15828417969,\n",
       " 41349.61619838868,\n",
       " 47167.09700830811,\n",
       " 53275.45185872352,\n",
       " 59689.2244516597,\n",
       " 66423.68567424268,\n",
       " 73494.86995795481,\n",
       " 80919.61345585255,\n",
       " 88715.59412864519,\n",
       " 96901.37383507745,\n",
       " 105496.44252683132,\n",
       " 114521.2646531729,\n",
       " 123997.32788583155]"
      ]
     },
     "execution_count": 5,
     "metadata": {},
     "output_type": "execute_result"
    }
   ],
   "source": [
    "beleggen = []\n",
    "beleggen.append(start*spaarperc)\n",
    "for num in range(0, max_jaren-1):\n",
    "    portf = start*spaarperc + beleggen[num]*rendement\n",
    "    beleggen.append(portf)\n",
    "beleggen"
   ]
  },
  {
   "cell_type": "code",
   "execution_count": 15,
   "id": "8848ee66",
   "metadata": {},
   "outputs": [
    {
     "data": {
      "text/html": [
       "<div>\n",
       "<style scoped>\n",
       "    .dataframe tbody tr th:only-of-type {\n",
       "        vertical-align: middle;\n",
       "    }\n",
       "\n",
       "    .dataframe tbody tr th {\n",
       "        vertical-align: top;\n",
       "    }\n",
       "\n",
       "    .dataframe thead th {\n",
       "        text-align: right;\n",
       "    }\n",
       "</style>\n",
       "<table border=\"1\" class=\"dataframe\">\n",
       "  <thead>\n",
       "    <tr style=\"text-align: right;\">\n",
       "      <th></th>\n",
       "      <th>tijd</th>\n",
       "      <th>sparen</th>\n",
       "      <th>beleggen</th>\n",
       "    </tr>\n",
       "  </thead>\n",
       "  <tbody>\n",
       "    <tr>\n",
       "      <th>15</th>\n",
       "      <td>16</td>\n",
       "      <td>60000.0</td>\n",
       "      <td>88715.594129</td>\n",
       "    </tr>\n",
       "    <tr>\n",
       "      <th>16</th>\n",
       "      <td>17</td>\n",
       "      <td>63750.0</td>\n",
       "      <td>96901.373835</td>\n",
       "    </tr>\n",
       "    <tr>\n",
       "      <th>17</th>\n",
       "      <td>18</td>\n",
       "      <td>67500.0</td>\n",
       "      <td>105496.442527</td>\n",
       "    </tr>\n",
       "    <tr>\n",
       "      <th>18</th>\n",
       "      <td>19</td>\n",
       "      <td>71250.0</td>\n",
       "      <td>114521.264653</td>\n",
       "    </tr>\n",
       "    <tr>\n",
       "      <th>19</th>\n",
       "      <td>20</td>\n",
       "      <td>75000.0</td>\n",
       "      <td>123997.327886</td>\n",
       "    </tr>\n",
       "  </tbody>\n",
       "</table>\n",
       "</div>"
      ],
      "text/plain": [
       "    tijd   sparen       beleggen\n",
       "15    16  60000.0   88715.594129\n",
       "16    17  63750.0   96901.373835\n",
       "17    18  67500.0  105496.442527\n",
       "18    19  71250.0  114521.264653\n",
       "19    20  75000.0  123997.327886"
      ]
     },
     "execution_count": 15,
     "metadata": {},
     "output_type": "execute_result"
    }
   ],
   "source": [
    "data = {'tijd': tijd, 'sparen':sparen, 'beleggen': beleggen}\n",
    "df = pd.DataFrame(data=data)\n",
    "df.tail()"
   ]
  },
  {
   "cell_type": "code",
   "execution_count": 24,
   "id": "f0851b20",
   "metadata": {},
   "outputs": [
    {
     "data": {
      "image/png": "[encoded data removed]",
      "text/plain": [
       "<Figure size 432x288 with 1 Axes>"
      ]
     },
     "metadata": {
      "needs_background": "light"
     },
     "output_type": "display_data"
    }
   ],
   "source": [
    "x = df.tijd\n",
    "y1 = df.sparen\n",
    "y2 = df.beleggen\n",
    "\n",
    "plt.xticks(0 + np.arange(0, len(x)+1, 5))\n",
    "plt.plot(x, y1, label='sparen')\n",
    "plt.plot(x, y2, label='beleggen')\n",
    "plt.legend()\n",
    "txt=\"Bron: devrijestier.nl (2021)\"\n",
    "plt.figtext(0.5, 0.01, txt, wrap=True, horizontalalignment='center', fontsize=11)\n",
    "plt.figtext(0.74, 0.82, '€124.000', fontsize=9)\n",
    "plt.savefig('myimage.png', format='png', dpi=600)\n",
    "plt.show()"
   ]
  },
  {
   "cell_type": "markdown",
   "id": "1f86a547",
   "metadata": {},
   "source": [
    "# 6.2 Salarisverhoging"
   ]
  },
  {
   "cell_type": "code",
   "execution_count": 29,
   "id": "b9e8d23e",
   "metadata": {},
   "outputs": [],
   "source": [
    "leeftijd = []\n",
    "for tijd in df.tijd:\n",
    "    jaar = tijd + 24\n",
    "    leeftijd.append(jaar)"
   ]
  },
  {
   "cell_type": "code",
   "execution_count": 39,
   "id": "0242a8f0",
   "metadata": {},
   "outputs": [],
   "source": [
    "df2 = pd.DataFrame(data=leeftijd, columns=['leeftijd'])"
   ]
  },
  {
   "cell_type": "code",
   "execution_count": 42,
   "id": "527cf877",
   "metadata": {},
   "outputs": [
    {
     "data": {
      "text/html": [
       "<div>\n",
       "<style scoped>\n",
       "    .dataframe tbody tr th:only-of-type {\n",
       "        vertical-align: middle;\n",
       "    }\n",
       "\n",
       "    .dataframe tbody tr th {\n",
       "        vertical-align: top;\n",
       "    }\n",
       "\n",
       "    .dataframe thead th {\n",
       "        text-align: right;\n",
       "    }\n",
       "</style>\n",
       "<table border=\"1\" class=\"dataframe\">\n",
       "  <thead>\n",
       "    <tr style=\"text-align: right;\">\n",
       "      <th></th>\n",
       "      <th>leeftijd</th>\n",
       "      <th>geen</th>\n",
       "    </tr>\n",
       "  </thead>\n",
       "  <tbody>\n",
       "    <tr>\n",
       "      <th>15</th>\n",
       "      <td>40</td>\n",
       "      <td>88715.594129</td>\n",
       "    </tr>\n",
       "    <tr>\n",
       "      <th>16</th>\n",
       "      <td>41</td>\n",
       "      <td>96901.373835</td>\n",
       "    </tr>\n",
       "    <tr>\n",
       "      <th>17</th>\n",
       "      <td>42</td>\n",
       "      <td>105496.442527</td>\n",
       "    </tr>\n",
       "    <tr>\n",
       "      <th>18</th>\n",
       "      <td>43</td>\n",
       "      <td>114521.264653</td>\n",
       "    </tr>\n",
       "    <tr>\n",
       "      <th>19</th>\n",
       "      <td>44</td>\n",
       "      <td>123997.327886</td>\n",
       "    </tr>\n",
       "  </tbody>\n",
       "</table>\n",
       "</div>"
      ],
      "text/plain": [
       "    leeftijd           geen\n",
       "15        40   88715.594129\n",
       "16        41   96901.373835\n",
       "17        42  105496.442527\n",
       "18        43  114521.264653\n",
       "19        44  123997.327886"
      ]
     },
     "execution_count": 42,
     "metadata": {},
     "output_type": "execute_result"
    }
   ],
   "source": [
    "geen = []\n",
    "geen.append(start*spaarperc)\n",
    "for num in range(0, max_jaren-1):\n",
    "    port_geen = start*spaarperc + geen[num]*rendement\n",
    "    geen.append(port_geen)\n",
    "df2['geen'] = geen"
   ]
  },
  {
   "cell_type": "code",
   "execution_count": 45,
   "id": "1e85574f",
   "metadata": {},
   "outputs": [],
   "source": [
    "df2['geen_verhoging'] = start"
   ]
  },
  {
   "cell_type": "code",
   "execution_count": 46,
   "id": "c67b1c7f",
   "metadata": {},
   "outputs": [
    {
     "data": {
      "text/html": [
       "<div>\n",
       "<style scoped>\n",
       "    .dataframe tbody tr th:only-of-type {\n",
       "        vertical-align: middle;\n",
       "    }\n",
       "\n",
       "    .dataframe tbody tr th {\n",
       "        vertical-align: top;\n",
       "    }\n",
       "\n",
       "    .dataframe thead th {\n",
       "        text-align: right;\n",
       "    }\n",
       "</style>\n",
       "<table border=\"1\" class=\"dataframe\">\n",
       "  <thead>\n",
       "    <tr style=\"text-align: right;\">\n",
       "      <th></th>\n",
       "      <th>leeftijd</th>\n",
       "      <th>geen</th>\n",
       "      <th>geen_verhoging</th>\n",
       "    </tr>\n",
       "  </thead>\n",
       "  <tbody>\n",
       "    <tr>\n",
       "      <th>15</th>\n",
       "      <td>40</td>\n",
       "      <td>88715.594129</td>\n",
       "      <td>25000</td>\n",
       "    </tr>\n",
       "    <tr>\n",
       "      <th>16</th>\n",
       "      <td>41</td>\n",
       "      <td>96901.373835</td>\n",
       "      <td>25000</td>\n",
       "    </tr>\n",
       "    <tr>\n",
       "      <th>17</th>\n",
       "      <td>42</td>\n",
       "      <td>105496.442527</td>\n",
       "      <td>25000</td>\n",
       "    </tr>\n",
       "    <tr>\n",
       "      <th>18</th>\n",
       "      <td>43</td>\n",
       "      <td>114521.264653</td>\n",
       "      <td>25000</td>\n",
       "    </tr>\n",
       "    <tr>\n",
       "      <th>19</th>\n",
       "      <td>44</td>\n",
       "      <td>123997.327886</td>\n",
       "      <td>25000</td>\n",
       "    </tr>\n",
       "  </tbody>\n",
       "</table>\n",
       "</div>"
      ],
      "text/plain": [
       "    leeftijd           geen  geen_verhoging\n",
       "15        40   88715.594129           25000\n",
       "16        41   96901.373835           25000\n",
       "17        42  105496.442527           25000\n",
       "18        43  114521.264653           25000\n",
       "19        44  123997.327886           25000"
      ]
     },
     "execution_count": 46,
     "metadata": {},
     "output_type": "execute_result"
    }
   ],
   "source": [
    "df2.tail()"
   ]
  },
  {
   "cell_type": "code",
   "execution_count": 57,
   "id": "3935cc47",
   "metadata": {},
   "outputs": [
    {
     "data": {
      "text/html": [
       "<div>\n",
       "<style scoped>\n",
       "    .dataframe tbody tr th:only-of-type {\n",
       "        vertical-align: middle;\n",
       "    }\n",
       "\n",
       "    .dataframe tbody tr th {\n",
       "        vertical-align: top;\n",
       "    }\n",
       "\n",
       "    .dataframe thead th {\n",
       "        text-align: right;\n",
       "    }\n",
       "</style>\n",
       "<table border=\"1\" class=\"dataframe\">\n",
       "  <thead>\n",
       "    <tr style=\"text-align: right;\">\n",
       "      <th></th>\n",
       "      <th>leeftijd</th>\n",
       "      <th>geen</th>\n",
       "      <th>geen_verhoging</th>\n",
       "      <th>wel_verhoging</th>\n",
       "    </tr>\n",
       "  </thead>\n",
       "  <tbody>\n",
       "    <tr>\n",
       "      <th>15</th>\n",
       "      <td>40</td>\n",
       "      <td>88715.594129</td>\n",
       "      <td>25000</td>\n",
       "      <td>30000.0</td>\n",
       "    </tr>\n",
       "    <tr>\n",
       "      <th>16</th>\n",
       "      <td>41</td>\n",
       "      <td>96901.373835</td>\n",
       "      <td>25000</td>\n",
       "      <td>30000.0</td>\n",
       "    </tr>\n",
       "    <tr>\n",
       "      <th>17</th>\n",
       "      <td>42</td>\n",
       "      <td>105496.442527</td>\n",
       "      <td>25000</td>\n",
       "      <td>30000.0</td>\n",
       "    </tr>\n",
       "    <tr>\n",
       "      <th>18</th>\n",
       "      <td>43</td>\n",
       "      <td>114521.264653</td>\n",
       "      <td>25000</td>\n",
       "      <td>30000.0</td>\n",
       "    </tr>\n",
       "    <tr>\n",
       "      <th>19</th>\n",
       "      <td>44</td>\n",
       "      <td>123997.327886</td>\n",
       "      <td>25000</td>\n",
       "      <td>30000.0</td>\n",
       "    </tr>\n",
       "  </tbody>\n",
       "</table>\n",
       "</div>"
      ],
      "text/plain": [
       "    leeftijd           geen  geen_verhoging  wel_verhoging\n",
       "15        40   88715.594129           25000        30000.0\n",
       "16        41   96901.373835           25000        30000.0\n",
       "17        42  105496.442527           25000        30000.0\n",
       "18        43  114521.264653           25000        30000.0\n",
       "19        44  123997.327886           25000        30000.0"
      ]
     },
     "execution_count": 57,
     "metadata": {},
     "output_type": "execute_result"
    }
   ],
   "source": [
    "wel_verhoging = []\n",
    "for x in range(1,6):\n",
    "    wel_verhoging.append(start)\n",
    "for x in range(6,21):\n",
    "    wel_verhoging.append(start*1.2)\n",
    "df2['wel_verhoging'] = wel_verhoging\n",
    "df2.tail()"
   ]
  },
  {
   "cell_type": "code",
   "execution_count": 59,
   "id": "323191fa",
   "metadata": {},
   "outputs": [
    {
     "data": {
      "text/html": [
       "<div>\n",
       "<style scoped>\n",
       "    .dataframe tbody tr th:only-of-type {\n",
       "        vertical-align: middle;\n",
       "    }\n",
       "\n",
       "    .dataframe tbody tr th {\n",
       "        vertical-align: top;\n",
       "    }\n",
       "\n",
       "    .dataframe thead th {\n",
       "        text-align: right;\n",
       "    }\n",
       "</style>\n",
       "<table border=\"1\" class=\"dataframe\">\n",
       "  <thead>\n",
       "    <tr style=\"text-align: right;\">\n",
       "      <th></th>\n",
       "      <th>leeftijd</th>\n",
       "      <th>geen</th>\n",
       "      <th>geen_verhoging</th>\n",
       "      <th>wel_verhoging</th>\n",
       "      <th>vroeg5</th>\n",
       "    </tr>\n",
       "  </thead>\n",
       "  <tbody>\n",
       "    <tr>\n",
       "      <th>15</th>\n",
       "      <td>40</td>\n",
       "      <td>88715.594129</td>\n",
       "      <td>25000</td>\n",
       "      <td>30000.0</td>\n",
       "      <td>98149.013530</td>\n",
       "    </tr>\n",
       "    <tr>\n",
       "      <th>16</th>\n",
       "      <td>41</td>\n",
       "      <td>96901.373835</td>\n",
       "      <td>25000</td>\n",
       "      <td>30000.0</td>\n",
       "      <td>107556.464207</td>\n",
       "    </tr>\n",
       "    <tr>\n",
       "      <th>17</th>\n",
       "      <td>42</td>\n",
       "      <td>105496.442527</td>\n",
       "      <td>25000</td>\n",
       "      <td>30000.0</td>\n",
       "      <td>117434.287417</td>\n",
       "    </tr>\n",
       "    <tr>\n",
       "      <th>18</th>\n",
       "      <td>43</td>\n",
       "      <td>114521.264653</td>\n",
       "      <td>25000</td>\n",
       "      <td>30000.0</td>\n",
       "      <td>127806.001788</td>\n",
       "    </tr>\n",
       "    <tr>\n",
       "      <th>19</th>\n",
       "      <td>44</td>\n",
       "      <td>123997.327886</td>\n",
       "      <td>25000</td>\n",
       "      <td>30000.0</td>\n",
       "      <td>138696.301877</td>\n",
       "    </tr>\n",
       "  </tbody>\n",
       "</table>\n",
       "</div>"
      ],
      "text/plain": [
       "    leeftijd           geen  geen_verhoging  wel_verhoging         vroeg5\n",
       "15        40   88715.594129           25000        30000.0   98149.013530\n",
       "16        41   96901.373835           25000        30000.0  107556.464207\n",
       "17        42  105496.442527           25000        30000.0  117434.287417\n",
       "18        43  114521.264653           25000        30000.0  127806.001788\n",
       "19        44  123997.327886           25000        30000.0  138696.301877"
      ]
     },
     "execution_count": 59,
     "metadata": {},
     "output_type": "execute_result"
    }
   ],
   "source": [
    "vroeg5 = []\n",
    "vroeg5.append(start*spaarperc)\n",
    "for num in range(0, max_jaren-1):\n",
    "    port_vroeg5 = wel_verhoging[num]*spaarperc + vroeg5[num]*rendement\n",
    "    vroeg5.append(port_vroeg5)\n",
    "df2['vroeg5'] = vroeg5\n",
    "df2.tail()"
   ]
  },
  {
   "cell_type": "code",
   "execution_count": 82,
   "id": "fd2d0242",
   "metadata": {},
   "outputs": [
    {
     "data": {
      "image/png": "[encoded data removed]",
      "text/plain": [
       "<Figure size 432x288 with 1 Axes>"
      ]
     },
     "metadata": {
      "needs_background": "light"
     },
     "output_type": "display_data"
    }
   ],
   "source": [
    "x2 = df2.leeftijd\n",
    "z1 = df2.geen\n",
    "z2 = df2.vroeg5\n",
    "\n",
    "plt.plot(x2, z1, label='geen salarisverhoging')\n",
    "plt.plot(x2, z2, label='slrs.verhoging na 5 jaar')\n",
    "plt.legend()\n",
    "txt=\"Bron: devrijestier.nl (2021)\"\n",
    "plt.figtext(0.5, 0.01, txt, wrap=True, horizontalalignment='center', fontsize=11)\n",
    "plt.figtext(0.74, 0.82, '€139.000', fontsize=9)\n",
    "plt.savefig('salarisverhoging.png', format='png', dpi=600)\n",
    "plt.show()"
   ]
  },
  {
   "cell_type": "code",
   "execution_count": 70,
   "id": "1103bd4d",
   "metadata": {},
   "outputs": [
    {
     "data": {
      "text/plain": [
       "14698.973991591003"
      ]
     },
     "execution_count": 70,
     "metadata": {},
     "output_type": "execute_result"
    }
   ],
   "source": [
    "verschil = df2.vroeg5.iloc[19] - df2.geen.iloc[19]\n",
    "verschil"
   ]
  },
  {
   "cell_type": "markdown",
   "id": "97d73412",
   "metadata": {},
   "source": [
    "# De eerste 100k is het moeilijkst"
   ]
  },
  {
   "cell_type": "code",
   "execution_count": 72,
   "id": "35b1b60a",
   "metadata": {},
   "outputs": [],
   "source": [
    "tijd2 = []\n",
    "for num in range(1,41):\n",
    "    tijd2.append(num)\n",
    "len(tijd2)"
   ]
  },
  {
   "cell_type": "code",
   "execution_count": 79,
   "id": "8c58ed27",
   "metadata": {},
   "outputs": [
    {
     "data": {
      "text/plain": [
       "40"
      ]
     },
     "execution_count": 79,
     "metadata": {},
     "output_type": "execute_result"
    }
   ],
   "source": [
    "sparen2 = []\n",
    "for num in range(1, 41):\n",
    "    spaargeld2 = start*spaarperc*num\n",
    "    sparen2.append(spaargeld2)\n",
    "len(sparen2)"
   ]
  },
  {
   "cell_type": "code",
   "execution_count": 80,
   "id": "f2fb6dcf",
   "metadata": {},
   "outputs": [
    {
     "data": {
      "text/plain": [
       "40"
      ]
     },
     "execution_count": 80,
     "metadata": {},
     "output_type": "execute_result"
    }
   ],
   "source": [
    "beleggen2 = []\n",
    "beleggen2.append(start*spaarperc)\n",
    "for num in range(0, 39):\n",
    "    portf2 = start*spaarperc + beleggen2[num]*rendement\n",
    "    beleggen2.append(portf2)\n",
    "len(beleggen2)"
   ]
  },
  {
   "cell_type": "code",
   "execution_count": 85,
   "id": "29961da9",
   "metadata": {},
   "outputs": [
    {
     "data": {
      "text/html": [
       "<div>\n",
       "<style scoped>\n",
       "    .dataframe tbody tr th:only-of-type {\n",
       "        vertical-align: middle;\n",
       "    }\n",
       "\n",
       "    .dataframe tbody tr th {\n",
       "        vertical-align: top;\n",
       "    }\n",
       "\n",
       "    .dataframe thead th {\n",
       "        text-align: right;\n",
       "    }\n",
       "</style>\n",
       "<table border=\"1\" class=\"dataframe\">\n",
       "  <thead>\n",
       "    <tr style=\"text-align: right;\">\n",
       "      <th></th>\n",
       "      <th>tijd</th>\n",
       "      <th>sparen</th>\n",
       "      <th>beleggen</th>\n",
       "    </tr>\n",
       "  </thead>\n",
       "  <tbody>\n",
       "    <tr>\n",
       "      <th>0</th>\n",
       "      <td>1</td>\n",
       "      <td>3750.0</td>\n",
       "      <td>3750.000000</td>\n",
       "    </tr>\n",
       "    <tr>\n",
       "      <th>1</th>\n",
       "      <td>2</td>\n",
       "      <td>7500.0</td>\n",
       "      <td>7687.500000</td>\n",
       "    </tr>\n",
       "    <tr>\n",
       "      <th>2</th>\n",
       "      <td>3</td>\n",
       "      <td>11250.0</td>\n",
       "      <td>11821.875000</td>\n",
       "    </tr>\n",
       "    <tr>\n",
       "      <th>3</th>\n",
       "      <td>4</td>\n",
       "      <td>15000.0</td>\n",
       "      <td>16162.968750</td>\n",
       "    </tr>\n",
       "    <tr>\n",
       "      <th>4</th>\n",
       "      <td>5</td>\n",
       "      <td>18750.0</td>\n",
       "      <td>20721.117188</td>\n",
       "    </tr>\n",
       "    <tr>\n",
       "      <th>5</th>\n",
       "      <td>6</td>\n",
       "      <td>22500.0</td>\n",
       "      <td>25507.173047</td>\n",
       "    </tr>\n",
       "    <tr>\n",
       "      <th>6</th>\n",
       "      <td>7</td>\n",
       "      <td>26250.0</td>\n",
       "      <td>30532.531699</td>\n",
       "    </tr>\n",
       "    <tr>\n",
       "      <th>7</th>\n",
       "      <td>8</td>\n",
       "      <td>30000.0</td>\n",
       "      <td>35809.158284</td>\n",
       "    </tr>\n",
       "    <tr>\n",
       "      <th>8</th>\n",
       "      <td>9</td>\n",
       "      <td>33750.0</td>\n",
       "      <td>41349.616198</td>\n",
       "    </tr>\n",
       "    <tr>\n",
       "      <th>9</th>\n",
       "      <td>10</td>\n",
       "      <td>37500.0</td>\n",
       "      <td>47167.097008</td>\n",
       "    </tr>\n",
       "    <tr>\n",
       "      <th>10</th>\n",
       "      <td>11</td>\n",
       "      <td>41250.0</td>\n",
       "      <td>53275.451859</td>\n",
       "    </tr>\n",
       "    <tr>\n",
       "      <th>11</th>\n",
       "      <td>12</td>\n",
       "      <td>45000.0</td>\n",
       "      <td>59689.224452</td>\n",
       "    </tr>\n",
       "    <tr>\n",
       "      <th>12</th>\n",
       "      <td>13</td>\n",
       "      <td>48750.0</td>\n",
       "      <td>66423.685674</td>\n",
       "    </tr>\n",
       "    <tr>\n",
       "      <th>13</th>\n",
       "      <td>14</td>\n",
       "      <td>52500.0</td>\n",
       "      <td>73494.869958</td>\n",
       "    </tr>\n",
       "    <tr>\n",
       "      <th>14</th>\n",
       "      <td>15</td>\n",
       "      <td>56250.0</td>\n",
       "      <td>80919.613456</td>\n",
       "    </tr>\n",
       "    <tr>\n",
       "      <th>15</th>\n",
       "      <td>16</td>\n",
       "      <td>60000.0</td>\n",
       "      <td>88715.594129</td>\n",
       "    </tr>\n",
       "    <tr>\n",
       "      <th>16</th>\n",
       "      <td>17</td>\n",
       "      <td>63750.0</td>\n",
       "      <td>96901.373835</td>\n",
       "    </tr>\n",
       "    <tr>\n",
       "      <th>17</th>\n",
       "      <td>18</td>\n",
       "      <td>67500.0</td>\n",
       "      <td>105496.442527</td>\n",
       "    </tr>\n",
       "    <tr>\n",
       "      <th>18</th>\n",
       "      <td>19</td>\n",
       "      <td>71250.0</td>\n",
       "      <td>114521.264653</td>\n",
       "    </tr>\n",
       "    <tr>\n",
       "      <th>19</th>\n",
       "      <td>20</td>\n",
       "      <td>75000.0</td>\n",
       "      <td>123997.327886</td>\n",
       "    </tr>\n",
       "    <tr>\n",
       "      <th>20</th>\n",
       "      <td>21</td>\n",
       "      <td>78750.0</td>\n",
       "      <td>133947.194280</td>\n",
       "    </tr>\n",
       "    <tr>\n",
       "      <th>21</th>\n",
       "      <td>22</td>\n",
       "      <td>82500.0</td>\n",
       "      <td>144394.553994</td>\n",
       "    </tr>\n",
       "    <tr>\n",
       "      <th>22</th>\n",
       "      <td>23</td>\n",
       "      <td>86250.0</td>\n",
       "      <td>155364.281694</td>\n",
       "    </tr>\n",
       "    <tr>\n",
       "      <th>23</th>\n",
       "      <td>24</td>\n",
       "      <td>90000.0</td>\n",
       "      <td>166882.495779</td>\n",
       "    </tr>\n",
       "    <tr>\n",
       "      <th>24</th>\n",
       "      <td>25</td>\n",
       "      <td>93750.0</td>\n",
       "      <td>178976.620567</td>\n",
       "    </tr>\n",
       "    <tr>\n",
       "      <th>25</th>\n",
       "      <td>26</td>\n",
       "      <td>97500.0</td>\n",
       "      <td>191675.451596</td>\n",
       "    </tr>\n",
       "    <tr>\n",
       "      <th>26</th>\n",
       "      <td>27</td>\n",
       "      <td>101250.0</td>\n",
       "      <td>205009.224176</td>\n",
       "    </tr>\n",
       "    <tr>\n",
       "      <th>27</th>\n",
       "      <td>28</td>\n",
       "      <td>105000.0</td>\n",
       "      <td>219009.685384</td>\n",
       "    </tr>\n",
       "    <tr>\n",
       "      <th>28</th>\n",
       "      <td>29</td>\n",
       "      <td>108750.0</td>\n",
       "      <td>233710.169654</td>\n",
       "    </tr>\n",
       "    <tr>\n",
       "      <th>29</th>\n",
       "      <td>30</td>\n",
       "      <td>112500.0</td>\n",
       "      <td>249145.678136</td>\n",
       "    </tr>\n",
       "    <tr>\n",
       "      <th>30</th>\n",
       "      <td>31</td>\n",
       "      <td>116250.0</td>\n",
       "      <td>265352.962043</td>\n",
       "    </tr>\n",
       "    <tr>\n",
       "      <th>31</th>\n",
       "      <td>32</td>\n",
       "      <td>120000.0</td>\n",
       "      <td>282370.610145</td>\n",
       "    </tr>\n",
       "    <tr>\n",
       "      <th>32</th>\n",
       "      <td>33</td>\n",
       "      <td>123750.0</td>\n",
       "      <td>300239.140653</td>\n",
       "    </tr>\n",
       "    <tr>\n",
       "      <th>33</th>\n",
       "      <td>34</td>\n",
       "      <td>127500.0</td>\n",
       "      <td>319001.097685</td>\n",
       "    </tr>\n",
       "    <tr>\n",
       "      <th>34</th>\n",
       "      <td>35</td>\n",
       "      <td>131250.0</td>\n",
       "      <td>338701.152569</td>\n",
       "    </tr>\n",
       "    <tr>\n",
       "      <th>35</th>\n",
       "      <td>36</td>\n",
       "      <td>135000.0</td>\n",
       "      <td>359386.210198</td>\n",
       "    </tr>\n",
       "    <tr>\n",
       "      <th>36</th>\n",
       "      <td>37</td>\n",
       "      <td>138750.0</td>\n",
       "      <td>381105.520708</td>\n",
       "    </tr>\n",
       "    <tr>\n",
       "      <th>37</th>\n",
       "      <td>38</td>\n",
       "      <td>142500.0</td>\n",
       "      <td>403910.796743</td>\n",
       "    </tr>\n",
       "    <tr>\n",
       "      <th>38</th>\n",
       "      <td>39</td>\n",
       "      <td>146250.0</td>\n",
       "      <td>427856.336580</td>\n",
       "    </tr>\n",
       "    <tr>\n",
       "      <th>39</th>\n",
       "      <td>40</td>\n",
       "      <td>150000.0</td>\n",
       "      <td>452999.153409</td>\n",
       "    </tr>\n",
       "  </tbody>\n",
       "</table>\n",
       "</div>"
      ],
      "text/plain": [
       "    tijd    sparen       beleggen\n",
       "0      1    3750.0    3750.000000\n",
       "1      2    7500.0    7687.500000\n",
       "2      3   11250.0   11821.875000\n",
       "3      4   15000.0   16162.968750\n",
       "4      5   18750.0   20721.117188\n",
       "5      6   22500.0   25507.173047\n",
       "6      7   26250.0   30532.531699\n",
       "7      8   30000.0   35809.158284\n",
       "8      9   33750.0   41349.616198\n",
       "9     10   37500.0   47167.097008\n",
       "10    11   41250.0   53275.451859\n",
       "11    12   45000.0   59689.224452\n",
       "12    13   48750.0   66423.685674\n",
       "13    14   52500.0   73494.869958\n",
       "14    15   56250.0   80919.613456\n",
       "15    16   60000.0   88715.594129\n",
       "16    17   63750.0   96901.373835\n",
       "17    18   67500.0  105496.442527\n",
       "18    19   71250.0  114521.264653\n",
       "19    20   75000.0  123997.327886\n",
       "20    21   78750.0  133947.194280\n",
       "21    22   82500.0  144394.553994\n",
       "22    23   86250.0  155364.281694\n",
       "23    24   90000.0  166882.495779\n",
       "24    25   93750.0  178976.620567\n",
       "25    26   97500.0  191675.451596\n",
       "26    27  101250.0  205009.224176\n",
       "27    28  105000.0  219009.685384\n",
       "28    29  108750.0  233710.169654\n",
       "29    30  112500.0  249145.678136\n",
       "30    31  116250.0  265352.962043\n",
       "31    32  120000.0  282370.610145\n",
       "32    33  123750.0  300239.140653\n",
       "33    34  127500.0  319001.097685\n",
       "34    35  131250.0  338701.152569\n",
       "35    36  135000.0  359386.210198\n",
       "36    37  138750.0  381105.520708\n",
       "37    38  142500.0  403910.796743\n",
       "38    39  146250.0  427856.336580\n",
       "39    40  150000.0  452999.153409"
      ]
     },
     "execution_count": 85,
     "metadata": {},
     "output_type": "execute_result"
    }
   ],
   "source": [
    "data2 = {'tijd': tijd2, 'sparen':sparen2, 'beleggen': beleggen2}\n",
    "df3 = pd.DataFrame(data=data2)\n",
    "df3"
   ]
  },
  {
   "cell_type": "code",
   "execution_count": 101,
   "id": "c6b22788",
   "metadata": {},
   "outputs": [
    {
     "data": {
      "image/png": "[encoded data removed]",
      "text/plain": [
       "<Figure size 432x288 with 1 Axes>"
      ]
     },
     "metadata": {
      "needs_background": "light"
     },
     "output_type": "display_data"
    }
   ],
   "source": [
    "tijd = df3.tijd\n",
    "bedrag = df3.beleggen\n",
    "\n",
    "plt.xticks(0 + np.arange(0, len(tijd)+1, 5))\n",
    "plt.plot(tijd, bedrag, label='beleggen')\n",
    "plt.figtext(0.5, 0.01, \"Bron: devrijestier.nl (2021)\", wrap=True, horizontalalignment='center', fontsize=11)\n",
    "plt.vlines(17, 0, 100000, linestyles =\"dotted\", colors =\"k\")\n",
    "plt.figtext(0.3, 0.15, '17 jaar', fontsize=9)\n",
    "plt.vlines(26, 0, 200000, linestyles =\"dotted\", colors =\"k\")\n",
    "plt.figtext(0.5, 0.15, '9 jaar', fontsize=9)\n",
    "plt.vlines(33, 0, 300000, linestyles =\"dotted\", colors =\"k\")\n",
    "plt.figtext(0.635, 0.15, '7 jaar', fontsize=9)\n",
    "plt.vlines(38, 0, 400000, linestyles =\"dotted\", colors =\"k\")\n",
    "plt.figtext(0.75, 0.15, '5 jaar', fontsize=9)\n",
    "plt.savefig('6. jaren 100k.png', format='png', dpi=600)\n",
    "plt.show()"
   ]
  },
  {
   "cell_type": "code",
   "execution_count": null,
   "id": "edc77164",
   "metadata": {},
   "outputs": [],
   "source": []
  }
 ],
 "metadata": {
  "kernelspec": {
   "display_name": "Python 3",
   "language": "python",
   "name": "python3"
  },
  "language_info": {
   "codemirror_mode": {
    "name": "ipython",
    "version": 3
   },
   "file_extension": ".py",
   "mimetype": "text/x-python",
   "name": "python",
   "nbconvert_exporter": "python",
   "pygments_lexer": "ipython3",
   "version": "3.8.5"
  }
 },
 "nbformat": 4,
 "nbformat_minor": 5
}
