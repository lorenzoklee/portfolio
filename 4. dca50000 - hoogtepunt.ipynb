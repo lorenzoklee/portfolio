{
 "cells": [
  {
   "cell_type": "code",
   "execution_count": 302,
   "id": "77287fc2",
   "metadata": {},
   "outputs": [],
   "source": [
    "import pandas as pd\n",
    "import yfinance as yf\n",
    "import matplotlib.pyplot as plt\n",
    "from yahoofinancials import YahooFinancials\n",
    "import seaborn as sns\n",
    "import numpy as np"
   ]
  },
  {
   "cell_type": "markdown",
   "id": "73a36b30",
   "metadata": {},
   "source": [
    "Aannames\n",
    "aanname 1: beiden strategieën beginnen met 50000 euro/dollar\n",
    "aanname 2: Cash krijgt geen rente\n",
    "\n",
    "Strategie 1: Gespreid beleggen over een periode van 24 maanden.\n",
    "Strategie 2: Alles in één keer"
   ]
  },
  {
   "cell_type": "code",
   "execution_count": 346,
   "id": "adbda18b",
   "metadata": {},
   "outputs": [],
   "source": [
    "START_DATE = \"1980-01-01\"\n",
    "END_DATE = \"2000-01-01\"\n",
    "SELECTED_TICKER = \"^GSPC\"\n",
    "MAAND = 12\n",
    "JAAR = 1\n",
    "AMOUNT = 50000"
   ]
  },
  {
   "cell_type": "code",
   "execution_count": 347,
   "id": "d74fd83e",
   "metadata": {},
   "outputs": [
    {
     "data": {
      "text/plain": [
       "4441.67"
      ]
     },
     "execution_count": 347,
     "metadata": {},
     "output_type": "execute_result"
    }
   ],
   "source": [
    "data = YahooFinancials(SELECTED_TICKER)\n",
    "prijs = data.get_current_price()\n",
    "prijs"
   ]
  },
  {
   "cell_type": "code",
   "execution_count": 348,
   "id": "30dfa8d3",
   "metadata": {},
   "outputs": [],
   "source": [
    "# klopt met wat er op yahoo finance staat, dus we kunnen door"
   ]
  },
  {
   "cell_type": "code",
   "execution_count": 349,
   "id": "1478c566",
   "metadata": {},
   "outputs": [],
   "source": [
    "# return hisorical prices under the selected ticker\n",
    "df = data.get_historical_price_data(START_DATE, END_DATE, \"monthly\")"
   ]
  },
  {
   "cell_type": "code",
   "execution_count": 350,
   "id": "32d9b5b2",
   "metadata": {},
   "outputs": [],
   "source": [
    "# drop unix timestamp\n",
    "df = pd.DataFrame(df[SELECTED_TICKER][\"prices\"]).drop(columns=\"date\")\n",
    "\n",
    "# convert formatted_date to datetime in pandas\n",
    "df[\"formatted_date\"] = pd.to_datetime(df[\"formatted_date\"])\n",
    "\n",
    "# set date as index of the dataframe\n",
    "df.set_index(\"formatted_date\", inplace=True)\n",
    "\n",
    "# drop null values, if any\n",
    "df = df.dropna()"
   ]
  },
  {
   "cell_type": "code",
   "execution_count": 351,
   "id": "8b310ce7",
   "metadata": {
    "scrolled": true
   },
   "outputs": [
    {
     "data": {
      "text/html": [
       "<div>\n",
       "<style scoped>\n",
       "    .dataframe tbody tr th:only-of-type {\n",
       "        vertical-align: middle;\n",
       "    }\n",
       "\n",
       "    .dataframe tbody tr th {\n",
       "        vertical-align: top;\n",
       "    }\n",
       "\n",
       "    .dataframe thead th {\n",
       "        text-align: right;\n",
       "    }\n",
       "</style>\n",
       "<table border=\"1\" class=\"dataframe\">\n",
       "  <thead>\n",
       "    <tr style=\"text-align: right;\">\n",
       "      <th></th>\n",
       "      <th>close</th>\n",
       "    </tr>\n",
       "    <tr>\n",
       "      <th>formatted_date</th>\n",
       "      <th></th>\n",
       "    </tr>\n",
       "  </thead>\n",
       "  <tbody>\n",
       "    <tr>\n",
       "      <th>1985-01-01</th>\n",
       "      <td>179.630005</td>\n",
       "    </tr>\n",
       "    <tr>\n",
       "      <th>1985-02-01</th>\n",
       "      <td>181.179993</td>\n",
       "    </tr>\n",
       "    <tr>\n",
       "      <th>1985-03-01</th>\n",
       "      <td>180.660004</td>\n",
       "    </tr>\n",
       "    <tr>\n",
       "      <th>1985-04-01</th>\n",
       "      <td>179.830002</td>\n",
       "    </tr>\n",
       "    <tr>\n",
       "      <th>1985-05-01</th>\n",
       "      <td>189.550003</td>\n",
       "    </tr>\n",
       "    <tr>\n",
       "      <th>...</th>\n",
       "      <td>...</td>\n",
       "    </tr>\n",
       "    <tr>\n",
       "      <th>1999-08-01</th>\n",
       "      <td>1320.410034</td>\n",
       "    </tr>\n",
       "    <tr>\n",
       "      <th>1999-09-01</th>\n",
       "      <td>1282.709961</td>\n",
       "    </tr>\n",
       "    <tr>\n",
       "      <th>1999-10-01</th>\n",
       "      <td>1362.930054</td>\n",
       "    </tr>\n",
       "    <tr>\n",
       "      <th>1999-11-01</th>\n",
       "      <td>1388.910034</td>\n",
       "    </tr>\n",
       "    <tr>\n",
       "      <th>1999-12-01</th>\n",
       "      <td>1469.250000</td>\n",
       "    </tr>\n",
       "  </tbody>\n",
       "</table>\n",
       "<p>180 rows × 1 columns</p>\n",
       "</div>"
      ],
      "text/plain": [
       "                      close\n",
       "formatted_date             \n",
       "1985-01-01       179.630005\n",
       "1985-02-01       181.179993\n",
       "1985-03-01       180.660004\n",
       "1985-04-01       179.830002\n",
       "1985-05-01       189.550003\n",
       "...                     ...\n",
       "1999-08-01      1320.410034\n",
       "1999-09-01      1282.709961\n",
       "1999-10-01      1362.930054\n",
       "1999-11-01      1388.910034\n",
       "1999-12-01      1469.250000\n",
       "\n",
       "[180 rows x 1 columns]"
      ]
     },
     "execution_count": 351,
     "metadata": {},
     "output_type": "execute_result"
    }
   ],
   "source": [
    "df.drop(columns=['open', 'high', 'volume', 'adjclose', 'low'], inplace=True)\n",
    "df"
   ]
  },
  {
   "cell_type": "code",
   "execution_count": 345,
   "id": "12cadd23",
   "metadata": {},
   "outputs": [
    {
     "data": {
      "text/plain": [
       "(60, 1)"
      ]
     },
     "execution_count": 345,
     "metadata": {},
     "output_type": "execute_result"
    }
   ],
   "source": [
    "df.shape"
   ]
  },
  {
   "cell_type": "code",
   "execution_count": 309,
   "id": "9eae3b76",
   "metadata": {},
   "outputs": [],
   "source": [
    "#cumulatieve aantal stuks x huidige prijs\n",
    "df['portfolio_waarde'] = np.nan\n",
    "#cumulatieve prijs\n",
    "df['cum_prijs'] = np.nan\n",
    "#cumulatieve aantal aandelen\n",
    "df['aantal aandelen'] = np.nan\n",
    "#aantal stuks aandelen per keer\n",
    "df['stuks'] = np.nan"
   ]
  },
  {
   "cell_type": "code",
   "execution_count": 310,
   "id": "862477a5",
   "metadata": {},
   "outputs": [],
   "source": [
    "dca = df "
   ]
  },
  {
   "cell_type": "code",
   "execution_count": 311,
   "id": "5d6eb79d",
   "metadata": {},
   "outputs": [
    {
     "data": {
      "text/plain": [
       "[Text(0.5, 0, ''), Text(0, 0.5, '')]"
      ]
     },
     "execution_count": 311,
     "metadata": {},
     "output_type": "execute_result"
    },
    {
     "data": {
      "image/png": "[encoded data removed]",
      "text/plain": [
       "<Figure size 432x288 with 1 Axes>"
      ]
     },
     "metadata": {
      "needs_background": "light"
     },
     "output_type": "display_data"
    }
   ],
   "source": [
    "ax = sns.lineplot(data=dca['close'])\n",
    "ax.yaxis.set_major_formatter('${x:1.1f}')\n",
    "ax.set_title(f\"Price of {SELECTED_TICKER}\")\n",
    "ax.set(xlabel=None, ylabel=None)"
   ]
  },
  {
   "cell_type": "code",
   "execution_count": 312,
   "id": "2e86efc3",
   "metadata": {},
   "outputs": [],
   "source": [
    "from core.trading import TradingSimulation"
   ]
  },
  {
   "cell_type": "markdown",
   "id": "1ec12360",
   "metadata": {},
   "source": [
    "# DCA - Periodiek Beleggen\n",
    "Elke maand 2083,33\n",
    "totale investering 50 000"
   ]
  },
  {
   "cell_type": "code",
   "execution_count": 313,
   "id": "e94a8e70",
   "metadata": {
    "scrolled": true
   },
   "outputs": [
    {
     "data": {
      "text/html": [
       "<div>\n",
       "<style scoped>\n",
       "    .dataframe tbody tr th:only-of-type {\n",
       "        vertical-align: middle;\n",
       "    }\n",
       "\n",
       "    .dataframe tbody tr th {\n",
       "        vertical-align: top;\n",
       "    }\n",
       "\n",
       "    .dataframe thead th {\n",
       "        text-align: right;\n",
       "    }\n",
       "</style>\n",
       "<table border=\"1\" class=\"dataframe\">\n",
       "  <thead>\n",
       "    <tr style=\"text-align: right;\">\n",
       "      <th></th>\n",
       "      <th>close</th>\n",
       "      <th>portfolio_waarde</th>\n",
       "      <th>cum_prijs</th>\n",
       "      <th>aantal aandelen</th>\n",
       "      <th>stuks</th>\n",
       "    </tr>\n",
       "    <tr>\n",
       "      <th>formatted_date</th>\n",
       "      <th></th>\n",
       "      <th></th>\n",
       "      <th></th>\n",
       "      <th></th>\n",
       "      <th></th>\n",
       "    </tr>\n",
       "  </thead>\n",
       "  <tbody>\n",
       "    <tr>\n",
       "      <th>1985-01-01</th>\n",
       "      <td>179.630005</td>\n",
       "      <td>NaN</td>\n",
       "      <td>NaN</td>\n",
       "      <td>NaN</td>\n",
       "      <td>NaN</td>\n",
       "    </tr>\n",
       "    <tr>\n",
       "      <th>1985-02-01</th>\n",
       "      <td>181.179993</td>\n",
       "      <td>NaN</td>\n",
       "      <td>NaN</td>\n",
       "      <td>NaN</td>\n",
       "      <td>NaN</td>\n",
       "    </tr>\n",
       "    <tr>\n",
       "      <th>1985-03-01</th>\n",
       "      <td>180.660004</td>\n",
       "      <td>NaN</td>\n",
       "      <td>NaN</td>\n",
       "      <td>NaN</td>\n",
       "      <td>NaN</td>\n",
       "    </tr>\n",
       "    <tr>\n",
       "      <th>1985-04-01</th>\n",
       "      <td>179.830002</td>\n",
       "      <td>NaN</td>\n",
       "      <td>NaN</td>\n",
       "      <td>NaN</td>\n",
       "      <td>NaN</td>\n",
       "    </tr>\n",
       "    <tr>\n",
       "      <th>1985-05-01</th>\n",
       "      <td>189.550003</td>\n",
       "      <td>NaN</td>\n",
       "      <td>NaN</td>\n",
       "      <td>NaN</td>\n",
       "      <td>NaN</td>\n",
       "    </tr>\n",
       "    <tr>\n",
       "      <th>...</th>\n",
       "      <td>...</td>\n",
       "      <td>...</td>\n",
       "      <td>...</td>\n",
       "      <td>...</td>\n",
       "      <td>...</td>\n",
       "    </tr>\n",
       "    <tr>\n",
       "      <th>1994-08-01</th>\n",
       "      <td>475.489990</td>\n",
       "      <td>NaN</td>\n",
       "      <td>NaN</td>\n",
       "      <td>NaN</td>\n",
       "      <td>NaN</td>\n",
       "    </tr>\n",
       "    <tr>\n",
       "      <th>1994-09-01</th>\n",
       "      <td>462.709991</td>\n",
       "      <td>NaN</td>\n",
       "      <td>NaN</td>\n",
       "      <td>NaN</td>\n",
       "      <td>NaN</td>\n",
       "    </tr>\n",
       "    <tr>\n",
       "      <th>1994-10-01</th>\n",
       "      <td>472.350006</td>\n",
       "      <td>NaN</td>\n",
       "      <td>NaN</td>\n",
       "      <td>NaN</td>\n",
       "      <td>NaN</td>\n",
       "    </tr>\n",
       "    <tr>\n",
       "      <th>1994-11-01</th>\n",
       "      <td>453.690002</td>\n",
       "      <td>NaN</td>\n",
       "      <td>NaN</td>\n",
       "      <td>NaN</td>\n",
       "      <td>NaN</td>\n",
       "    </tr>\n",
       "    <tr>\n",
       "      <th>1994-12-01</th>\n",
       "      <td>459.269989</td>\n",
       "      <td>NaN</td>\n",
       "      <td>NaN</td>\n",
       "      <td>NaN</td>\n",
       "      <td>NaN</td>\n",
       "    </tr>\n",
       "  </tbody>\n",
       "</table>\n",
       "<p>120 rows × 5 columns</p>\n",
       "</div>"
      ],
      "text/plain": [
       "                     close  portfolio_waarde  cum_prijs  aantal aandelen  \\\n",
       "formatted_date                                                             \n",
       "1985-01-01      179.630005               NaN        NaN              NaN   \n",
       "1985-02-01      181.179993               NaN        NaN              NaN   \n",
       "1985-03-01      180.660004               NaN        NaN              NaN   \n",
       "1985-04-01      179.830002               NaN        NaN              NaN   \n",
       "1985-05-01      189.550003               NaN        NaN              NaN   \n",
       "...                    ...               ...        ...              ...   \n",
       "1994-08-01      475.489990               NaN        NaN              NaN   \n",
       "1994-09-01      462.709991               NaN        NaN              NaN   \n",
       "1994-10-01      472.350006               NaN        NaN              NaN   \n",
       "1994-11-01      453.690002               NaN        NaN              NaN   \n",
       "1994-12-01      459.269989               NaN        NaN              NaN   \n",
       "\n",
       "                stuks  \n",
       "formatted_date         \n",
       "1985-01-01        NaN  \n",
       "1985-02-01        NaN  \n",
       "1985-03-01        NaN  \n",
       "1985-04-01        NaN  \n",
       "1985-05-01        NaN  \n",
       "...               ...  \n",
       "1994-08-01        NaN  \n",
       "1994-09-01        NaN  \n",
       "1994-10-01        NaN  \n",
       "1994-11-01        NaN  \n",
       "1994-12-01        NaN  \n",
       "\n",
       "[120 rows x 5 columns]"
      ]
     },
     "execution_count": 313,
     "metadata": {},
     "output_type": "execute_result"
    }
   ],
   "source": [
    "dca"
   ]
  },
  {
   "cell_type": "code",
   "execution_count": 314,
   "id": "8856adbb",
   "metadata": {},
   "outputs": [],
   "source": [
    "# per maand 2083,33 dollar aan aandelen kopen. Stuks te berekenen door 2083,33 / price\n",
    "stuks = []\n",
    "for price in dca['close']:\n",
    "    stuk = 2083.33 / price\n",
    "    stuks.append(stuk)\n",
    "dca['stuks'] = stuks"
   ]
  },
  {
   "cell_type": "code",
   "execution_count": 315,
   "id": "89c1a32b",
   "metadata": {},
   "outputs": [],
   "source": [
    "for x in range(25,120):\n",
    "    dca['stuks'][x] = 0"
   ]
  },
  {
   "cell_type": "code",
   "execution_count": 316,
   "id": "f7549afe",
   "metadata": {},
   "outputs": [],
   "source": [
    "dca['aantal aandelen'] = np.cumsum(dca['stuks'])"
   ]
  },
  {
   "cell_type": "code",
   "execution_count": 317,
   "id": "9e492a31",
   "metadata": {},
   "outputs": [],
   "source": [
    "dca['portfolio_waarde'] = dca['close'] * dca['aantal aandelen']\n",
    "dca['cum_prijs'] = np.cumsum(dca['close']) * dca['stuks']"
   ]
  },
  {
   "cell_type": "code",
   "execution_count": 318,
   "id": "b90af445",
   "metadata": {
    "scrolled": true
   },
   "outputs": [
    {
     "data": {
      "text/html": [
       "<div>\n",
       "<style scoped>\n",
       "    .dataframe tbody tr th:only-of-type {\n",
       "        vertical-align: middle;\n",
       "    }\n",
       "\n",
       "    .dataframe tbody tr th {\n",
       "        vertical-align: top;\n",
       "    }\n",
       "\n",
       "    .dataframe thead th {\n",
       "        text-align: right;\n",
       "    }\n",
       "</style>\n",
       "<table border=\"1\" class=\"dataframe\">\n",
       "  <thead>\n",
       "    <tr style=\"text-align: right;\">\n",
       "      <th></th>\n",
       "      <th>close</th>\n",
       "      <th>portfolio_waarde</th>\n",
       "      <th>cum_prijs</th>\n",
       "      <th>aantal aandelen</th>\n",
       "      <th>stuks</th>\n",
       "    </tr>\n",
       "    <tr>\n",
       "      <th>formatted_date</th>\n",
       "      <th></th>\n",
       "      <th></th>\n",
       "      <th></th>\n",
       "      <th></th>\n",
       "      <th></th>\n",
       "    </tr>\n",
       "  </thead>\n",
       "  <tbody>\n",
       "    <tr>\n",
       "      <th>1985-01-01</th>\n",
       "      <td>179.630005</td>\n",
       "      <td>2083.330000</td>\n",
       "      <td>2083.330000</td>\n",
       "      <td>11.597895</td>\n",
       "      <td>11.597895</td>\n",
       "    </tr>\n",
       "    <tr>\n",
       "      <th>1985-02-01</th>\n",
       "      <td>181.179993</td>\n",
       "      <td>4184.636596</td>\n",
       "      <td>4148.837193</td>\n",
       "      <td>23.096571</td>\n",
       "      <td>11.498676</td>\n",
       "    </tr>\n",
       "    <tr>\n",
       "      <th>1985-03-01</th>\n",
       "      <td>180.660004</td>\n",
       "      <td>6255.956633</td>\n",
       "      <td>6244.108684</td>\n",
       "      <td>34.628343</td>\n",
       "      <td>11.531772</td>\n",
       "    </tr>\n",
       "    <tr>\n",
       "      <th>1985-04-01</th>\n",
       "      <td>179.830002</td>\n",
       "      <td>8310.545045</td>\n",
       "      <td>8356.258244</td>\n",
       "      <td>46.213340</td>\n",
       "      <td>11.584997</td>\n",
       "    </tr>\n",
       "    <tr>\n",
       "      <th>1985-05-01</th>\n",
       "      <td>189.550003</td>\n",
       "      <td>10843.068767</td>\n",
       "      <td>10011.084741</td>\n",
       "      <td>57.204266</td>\n",
       "      <td>10.990926</td>\n",
       "    </tr>\n",
       "    <tr>\n",
       "      <th>...</th>\n",
       "      <td>...</td>\n",
       "      <td>...</td>\n",
       "      <td>...</td>\n",
       "      <td>...</td>\n",
       "      <td>...</td>\n",
       "    </tr>\n",
       "    <tr>\n",
       "      <th>1994-08-01</th>\n",
       "      <td>475.489990</td>\n",
       "      <td>116534.673414</td>\n",
       "      <td>0.000000</td>\n",
       "      <td>245.083337</td>\n",
       "      <td>0.000000</td>\n",
       "    </tr>\n",
       "    <tr>\n",
       "      <th>1994-09-01</th>\n",
       "      <td>462.709991</td>\n",
       "      <td>113402.508669</td>\n",
       "      <td>0.000000</td>\n",
       "      <td>245.083337</td>\n",
       "      <td>0.000000</td>\n",
       "    </tr>\n",
       "    <tr>\n",
       "      <th>1994-10-01</th>\n",
       "      <td>472.350006</td>\n",
       "      <td>115765.115626</td>\n",
       "      <td>0.000000</td>\n",
       "      <td>245.083337</td>\n",
       "      <td>0.000000</td>\n",
       "    </tr>\n",
       "    <tr>\n",
       "      <th>1994-11-01</th>\n",
       "      <td>453.690002</td>\n",
       "      <td>111191.859664</td>\n",
       "      <td>0.000000</td>\n",
       "      <td>245.083337</td>\n",
       "      <td>0.000000</td>\n",
       "    </tr>\n",
       "    <tr>\n",
       "      <th>1994-12-01</th>\n",
       "      <td>459.269989</td>\n",
       "      <td>112559.421392</td>\n",
       "      <td>0.000000</td>\n",
       "      <td>245.083337</td>\n",
       "      <td>0.000000</td>\n",
       "    </tr>\n",
       "  </tbody>\n",
       "</table>\n",
       "<p>120 rows × 5 columns</p>\n",
       "</div>"
      ],
      "text/plain": [
       "                     close  portfolio_waarde     cum_prijs  aantal aandelen  \\\n",
       "formatted_date                                                                \n",
       "1985-01-01      179.630005       2083.330000   2083.330000        11.597895   \n",
       "1985-02-01      181.179993       4184.636596   4148.837193        23.096571   \n",
       "1985-03-01      180.660004       6255.956633   6244.108684        34.628343   \n",
       "1985-04-01      179.830002       8310.545045   8356.258244        46.213340   \n",
       "1985-05-01      189.550003      10843.068767  10011.084741        57.204266   \n",
       "...                    ...               ...           ...              ...   \n",
       "1994-08-01      475.489990     116534.673414      0.000000       245.083337   \n",
       "1994-09-01      462.709991     113402.508669      0.000000       245.083337   \n",
       "1994-10-01      472.350006     115765.115626      0.000000       245.083337   \n",
       "1994-11-01      453.690002     111191.859664      0.000000       245.083337   \n",
       "1994-12-01      459.269989     112559.421392      0.000000       245.083337   \n",
       "\n",
       "                    stuks  \n",
       "formatted_date             \n",
       "1985-01-01      11.597895  \n",
       "1985-02-01      11.498676  \n",
       "1985-03-01      11.531772  \n",
       "1985-04-01      11.584997  \n",
       "1985-05-01      10.990926  \n",
       "...                   ...  \n",
       "1994-08-01       0.000000  \n",
       "1994-09-01       0.000000  \n",
       "1994-10-01       0.000000  \n",
       "1994-11-01       0.000000  \n",
       "1994-12-01       0.000000  \n",
       "\n",
       "[120 rows x 5 columns]"
      ]
     },
     "execution_count": 318,
     "metadata": {},
     "output_type": "execute_result"
    }
   ],
   "source": [
    "dca"
   ]
  },
  {
   "cell_type": "code",
   "execution_count": 319,
   "id": "bb10b174",
   "metadata": {
    "scrolled": true
   },
   "outputs": [
    {
     "data": {
      "text/plain": [
       "[Text(0.5, 0, ''), Text(0, 0.5, '')]"
      ]
     },
     "execution_count": 319,
     "metadata": {},
     "output_type": "execute_result"
    },
    {
     "data": {
      "image/png": "[encoded data removed]",
      "text/plain": [
       "<Figure size 432x288 with 1 Axes>"
      ]
     },
     "metadata": {
      "needs_background": "light"
     },
     "output_type": "display_data"
    }
   ],
   "source": [
    "ax = sns.lineplot(data=dca['portfolio_waarde'])\n",
    "ax.yaxis.set_major_formatter('${x:1.1f}')\n",
    "ax.set_title(\"Portfolio van Periodiek Beleggen\")\n",
    "ax.set(xlabel=None, ylabel=None)"
   ]
  },
  {
   "cell_type": "code",
   "execution_count": 320,
   "id": "70672b17",
   "metadata": {},
   "outputs": [
    {
     "data": {
      "text/plain": [
       "118034.58223863613"
      ]
     },
     "execution_count": 320,
     "metadata": {},
     "output_type": "execute_result"
    }
   ],
   "source": [
    "np.max(dca['portfolio_waarde'])"
   ]
  },
  {
   "cell_type": "markdown",
   "id": "2b753841",
   "metadata": {},
   "source": [
    "# 3. Lump Sum - Alles in één keer - A1"
   ]
  },
  {
   "cell_type": "code",
   "execution_count": 321,
   "id": "330b52df",
   "metadata": {},
   "outputs": [],
   "source": [
    "data = YahooFinancials(SELECTED_TICKER)"
   ]
  },
  {
   "cell_type": "code",
   "execution_count": 322,
   "id": "b8c90fbb",
   "metadata": {},
   "outputs": [],
   "source": [
    "# return hisorical prices under the selected ticker\n",
    "df1 = data.get_historical_price_data(START_DATE, END_DATE, \"monthly\")"
   ]
  },
  {
   "cell_type": "code",
   "execution_count": 323,
   "id": "56d556dc",
   "metadata": {},
   "outputs": [],
   "source": [
    "# drop unix timestamp\n",
    "df1 = pd.DataFrame(df1[SELECTED_TICKER][\"prices\"]).drop(columns=\"date\")\n",
    "\n",
    "# convert formatted_date to datetime in pandas\n",
    "df1[\"formatted_date\"] = pd.to_datetime(df1[\"formatted_date\"])\n",
    "\n",
    "# set date as index of the dataframe\n",
    "df1.set_index(\"formatted_date\", inplace=True)\n",
    "\n",
    "# drop null values, if any\n",
    "df1 = df1.dropna()"
   ]
  },
  {
   "cell_type": "code",
   "execution_count": 324,
   "id": "303cdb57",
   "metadata": {},
   "outputs": [
    {
     "data": {
      "text/html": [
       "<div>\n",
       "<style scoped>\n",
       "    .dataframe tbody tr th:only-of-type {\n",
       "        vertical-align: middle;\n",
       "    }\n",
       "\n",
       "    .dataframe tbody tr th {\n",
       "        vertical-align: top;\n",
       "    }\n",
       "\n",
       "    .dataframe thead th {\n",
       "        text-align: right;\n",
       "    }\n",
       "</style>\n",
       "<table border=\"1\" class=\"dataframe\">\n",
       "  <thead>\n",
       "    <tr style=\"text-align: right;\">\n",
       "      <th></th>\n",
       "      <th>close</th>\n",
       "    </tr>\n",
       "    <tr>\n",
       "      <th>formatted_date</th>\n",
       "      <th></th>\n",
       "    </tr>\n",
       "  </thead>\n",
       "  <tbody>\n",
       "    <tr>\n",
       "      <th>1985-01-01</th>\n",
       "      <td>179.630005</td>\n",
       "    </tr>\n",
       "    <tr>\n",
       "      <th>1985-02-01</th>\n",
       "      <td>181.179993</td>\n",
       "    </tr>\n",
       "    <tr>\n",
       "      <th>1985-03-01</th>\n",
       "      <td>180.660004</td>\n",
       "    </tr>\n",
       "    <tr>\n",
       "      <th>1985-04-01</th>\n",
       "      <td>179.830002</td>\n",
       "    </tr>\n",
       "    <tr>\n",
       "      <th>1985-05-01</th>\n",
       "      <td>189.550003</td>\n",
       "    </tr>\n",
       "    <tr>\n",
       "      <th>...</th>\n",
       "      <td>...</td>\n",
       "    </tr>\n",
       "    <tr>\n",
       "      <th>1994-08-01</th>\n",
       "      <td>475.489990</td>\n",
       "    </tr>\n",
       "    <tr>\n",
       "      <th>1994-09-01</th>\n",
       "      <td>462.709991</td>\n",
       "    </tr>\n",
       "    <tr>\n",
       "      <th>1994-10-01</th>\n",
       "      <td>472.350006</td>\n",
       "    </tr>\n",
       "    <tr>\n",
       "      <th>1994-11-01</th>\n",
       "      <td>453.690002</td>\n",
       "    </tr>\n",
       "    <tr>\n",
       "      <th>1994-12-01</th>\n",
       "      <td>459.269989</td>\n",
       "    </tr>\n",
       "  </tbody>\n",
       "</table>\n",
       "<p>120 rows × 1 columns</p>\n",
       "</div>"
      ],
      "text/plain": [
       "                     close\n",
       "formatted_date            \n",
       "1985-01-01      179.630005\n",
       "1985-02-01      181.179993\n",
       "1985-03-01      180.660004\n",
       "1985-04-01      179.830002\n",
       "1985-05-01      189.550003\n",
       "...                    ...\n",
       "1994-08-01      475.489990\n",
       "1994-09-01      462.709991\n",
       "1994-10-01      472.350006\n",
       "1994-11-01      453.690002\n",
       "1994-12-01      459.269989\n",
       "\n",
       "[120 rows x 1 columns]"
      ]
     },
     "execution_count": 324,
     "metadata": {},
     "output_type": "execute_result"
    }
   ],
   "source": [
    "df1.drop(columns=['open', 'high', 'volume', 'adjclose', 'low'], inplace=True)\n",
    "df1"
   ]
  },
  {
   "cell_type": "code",
   "execution_count": 325,
   "id": "0a778429",
   "metadata": {},
   "outputs": [],
   "source": [
    "#cumulatieve aantal stuks x huidige prijs\n",
    "df1['portfolio_waarde'] = np.nan\n",
    "#cumulatieve aantal aandelen\n",
    "df1['aantal aandelen'] = np.nan\n",
    "#aantal stuks aandelen per keer\n",
    "df1['stuks'] = np.nan\n",
    "df1['cash'] = np.nan"
   ]
  },
  {
   "cell_type": "code",
   "execution_count": 326,
   "id": "d044c329",
   "metadata": {
    "scrolled": true
   },
   "outputs": [
    {
     "data": {
      "text/html": [
       "<div>\n",
       "<style scoped>\n",
       "    .dataframe tbody tr th:only-of-type {\n",
       "        vertical-align: middle;\n",
       "    }\n",
       "\n",
       "    .dataframe tbody tr th {\n",
       "        vertical-align: top;\n",
       "    }\n",
       "\n",
       "    .dataframe thead th {\n",
       "        text-align: right;\n",
       "    }\n",
       "</style>\n",
       "<table border=\"1\" class=\"dataframe\">\n",
       "  <thead>\n",
       "    <tr style=\"text-align: right;\">\n",
       "      <th></th>\n",
       "      <th>close</th>\n",
       "      <th>portfolio_waarde</th>\n",
       "      <th>aantal aandelen</th>\n",
       "      <th>stuks</th>\n",
       "      <th>cash</th>\n",
       "    </tr>\n",
       "    <tr>\n",
       "      <th>formatted_date</th>\n",
       "      <th></th>\n",
       "      <th></th>\n",
       "      <th></th>\n",
       "      <th></th>\n",
       "      <th></th>\n",
       "    </tr>\n",
       "  </thead>\n",
       "  <tbody>\n",
       "    <tr>\n",
       "      <th>1985-01-01</th>\n",
       "      <td>179.630005</td>\n",
       "      <td>NaN</td>\n",
       "      <td>NaN</td>\n",
       "      <td>NaN</td>\n",
       "      <td>NaN</td>\n",
       "    </tr>\n",
       "    <tr>\n",
       "      <th>1985-02-01</th>\n",
       "      <td>181.179993</td>\n",
       "      <td>NaN</td>\n",
       "      <td>NaN</td>\n",
       "      <td>NaN</td>\n",
       "      <td>NaN</td>\n",
       "    </tr>\n",
       "    <tr>\n",
       "      <th>1985-03-01</th>\n",
       "      <td>180.660004</td>\n",
       "      <td>NaN</td>\n",
       "      <td>NaN</td>\n",
       "      <td>NaN</td>\n",
       "      <td>NaN</td>\n",
       "    </tr>\n",
       "    <tr>\n",
       "      <th>1985-04-01</th>\n",
       "      <td>179.830002</td>\n",
       "      <td>NaN</td>\n",
       "      <td>NaN</td>\n",
       "      <td>NaN</td>\n",
       "      <td>NaN</td>\n",
       "    </tr>\n",
       "    <tr>\n",
       "      <th>1985-05-01</th>\n",
       "      <td>189.550003</td>\n",
       "      <td>NaN</td>\n",
       "      <td>NaN</td>\n",
       "      <td>NaN</td>\n",
       "      <td>NaN</td>\n",
       "    </tr>\n",
       "    <tr>\n",
       "      <th>...</th>\n",
       "      <td>...</td>\n",
       "      <td>...</td>\n",
       "      <td>...</td>\n",
       "      <td>...</td>\n",
       "      <td>...</td>\n",
       "    </tr>\n",
       "    <tr>\n",
       "      <th>1994-08-01</th>\n",
       "      <td>475.489990</td>\n",
       "      <td>NaN</td>\n",
       "      <td>NaN</td>\n",
       "      <td>NaN</td>\n",
       "      <td>NaN</td>\n",
       "    </tr>\n",
       "    <tr>\n",
       "      <th>1994-09-01</th>\n",
       "      <td>462.709991</td>\n",
       "      <td>NaN</td>\n",
       "      <td>NaN</td>\n",
       "      <td>NaN</td>\n",
       "      <td>NaN</td>\n",
       "    </tr>\n",
       "    <tr>\n",
       "      <th>1994-10-01</th>\n",
       "      <td>472.350006</td>\n",
       "      <td>NaN</td>\n",
       "      <td>NaN</td>\n",
       "      <td>NaN</td>\n",
       "      <td>NaN</td>\n",
       "    </tr>\n",
       "    <tr>\n",
       "      <th>1994-11-01</th>\n",
       "      <td>453.690002</td>\n",
       "      <td>NaN</td>\n",
       "      <td>NaN</td>\n",
       "      <td>NaN</td>\n",
       "      <td>NaN</td>\n",
       "    </tr>\n",
       "    <tr>\n",
       "      <th>1994-12-01</th>\n",
       "      <td>459.269989</td>\n",
       "      <td>NaN</td>\n",
       "      <td>NaN</td>\n",
       "      <td>NaN</td>\n",
       "      <td>NaN</td>\n",
       "    </tr>\n",
       "  </tbody>\n",
       "</table>\n",
       "<p>120 rows × 5 columns</p>\n",
       "</div>"
      ],
      "text/plain": [
       "                     close  portfolio_waarde  aantal aandelen  stuks  cash\n",
       "formatted_date                                                            \n",
       "1985-01-01      179.630005               NaN              NaN    NaN   NaN\n",
       "1985-02-01      181.179993               NaN              NaN    NaN   NaN\n",
       "1985-03-01      180.660004               NaN              NaN    NaN   NaN\n",
       "1985-04-01      179.830002               NaN              NaN    NaN   NaN\n",
       "1985-05-01      189.550003               NaN              NaN    NaN   NaN\n",
       "...                    ...               ...              ...    ...   ...\n",
       "1994-08-01      475.489990               NaN              NaN    NaN   NaN\n",
       "1994-09-01      462.709991               NaN              NaN    NaN   NaN\n",
       "1994-10-01      472.350006               NaN              NaN    NaN   NaN\n",
       "1994-11-01      453.690002               NaN              NaN    NaN   NaN\n",
       "1994-12-01      459.269989               NaN              NaN    NaN   NaN\n",
       "\n",
       "[120 rows x 5 columns]"
      ]
     },
     "execution_count": 326,
     "metadata": {},
     "output_type": "execute_result"
    }
   ],
   "source": [
    "df1"
   ]
  },
  {
   "cell_type": "code",
   "execution_count": 327,
   "id": "e0a609b4",
   "metadata": {},
   "outputs": [],
   "source": [
    "df1['stuks'][0] = 50000 / df1['close'][0]\n",
    "df1['portfolio_waarde'][0] = df1['close'][0] * df1['stuks'][0]"
   ]
  },
  {
   "cell_type": "code",
   "execution_count": 328,
   "id": "768c1c92",
   "metadata": {},
   "outputs": [],
   "source": [
    "df1.to_excel('lump.xlsx')"
   ]
  },
  {
   "cell_type": "code",
   "execution_count": 329,
   "id": "f0ecb273",
   "metadata": {},
   "outputs": [],
   "source": [
    "for x in range(0,120):\n",
    "    df1['aantal aandelen'][x] = df1['stuks'][0]\n",
    "    if x > 0:\n",
    "        df1['stuks'][x] = df1['stuks'][0]"
   ]
  },
  {
   "cell_type": "markdown",
   "id": "d0acab39",
   "metadata": {},
   "source": [
    "https://towardsdatascience.com/simulate-your-trading-strategy-with-python-5a8a556c470e"
   ]
  },
  {
   "cell_type": "code",
   "execution_count": 330,
   "id": "17546023",
   "metadata": {},
   "outputs": [],
   "source": [
    "df1['portfolio_waarde'] = df1['close'] * df1['aantal aandelen']"
   ]
  },
  {
   "cell_type": "code",
   "execution_count": 331,
   "id": "ca59235c",
   "metadata": {},
   "outputs": [
    {
     "data": {
      "text/plain": [
       "[Text(0.5, 0, ''), Text(0, 0.5, '')]"
      ]
     },
     "execution_count": 331,
     "metadata": {},
     "output_type": "execute_result"
    },
    {
     "data": {
      "image/png": "[encoded data removed]",
      "text/plain": [
       "<Figure size 432x288 with 1 Axes>"
      ]
     },
     "metadata": {
      "needs_background": "light"
     },
     "output_type": "display_data"
    }
   ],
   "source": [
    "ax = sns.lineplot(data=df1['portfolio_waarde'])\n",
    "ax.yaxis.set_major_formatter('${x:1.1f}')\n",
    "ax.set_title(\"Portfolio van Lump Sum\")\n",
    "ax.set(xlabel=None, ylabel=None)"
   ]
  },
  {
   "cell_type": "code",
   "execution_count": 332,
   "id": "30c95cbd",
   "metadata": {
    "scrolled": true
   },
   "outputs": [
    {
     "data": {
      "text/plain": [
       "134056.10762682895"
      ]
     },
     "execution_count": 332,
     "metadata": {},
     "output_type": "execute_result"
    }
   ],
   "source": [
    "np.max(df1['portfolio_waarde'])"
   ]
  },
  {
   "cell_type": "markdown",
   "id": "ce3c4e0b",
   "metadata": {},
   "source": [
    "# Analyse"
   ]
  },
  {
   "cell_type": "code",
   "execution_count": 333,
   "id": "1bef8bbd",
   "metadata": {},
   "outputs": [
    {
     "data": {
      "text/plain": [
       "16021.525388192822"
      ]
     },
     "execution_count": 333,
     "metadata": {},
     "output_type": "execute_result"
    }
   ],
   "source": [
    "verschil = np.max(df1['portfolio_waarde']) - np.max(dca['portfolio_waarde'])\n",
    "verschil"
   ]
  },
  {
   "cell_type": "code",
   "execution_count": 334,
   "id": "17d42ecd",
   "metadata": {},
   "outputs": [
    {
     "data": {
      "text/html": [
       "<div>\n",
       "<style scoped>\n",
       "    .dataframe tbody tr th:only-of-type {\n",
       "        vertical-align: middle;\n",
       "    }\n",
       "\n",
       "    .dataframe tbody tr th {\n",
       "        vertical-align: top;\n",
       "    }\n",
       "\n",
       "    .dataframe thead th {\n",
       "        text-align: right;\n",
       "    }\n",
       "</style>\n",
       "<table border=\"1\" class=\"dataframe\">\n",
       "  <thead>\n",
       "    <tr style=\"text-align: right;\">\n",
       "      <th></th>\n",
       "      <th>close</th>\n",
       "      <th>portfolio_waarde</th>\n",
       "      <th>aantal aandelen</th>\n",
       "      <th>stuks</th>\n",
       "      <th>cash</th>\n",
       "      <th>verschil</th>\n",
       "    </tr>\n",
       "    <tr>\n",
       "      <th>formatted_date</th>\n",
       "      <th></th>\n",
       "      <th></th>\n",
       "      <th></th>\n",
       "      <th></th>\n",
       "      <th></th>\n",
       "      <th></th>\n",
       "    </tr>\n",
       "  </thead>\n",
       "  <tbody>\n",
       "    <tr>\n",
       "      <th>1985-01-01</th>\n",
       "      <td>179.630005</td>\n",
       "      <td>50000.000000</td>\n",
       "      <td>278.349934</td>\n",
       "      <td>278.349934</td>\n",
       "      <td>NaN</td>\n",
       "      <td>47916.670000</td>\n",
       "    </tr>\n",
       "    <tr>\n",
       "      <th>1985-02-01</th>\n",
       "      <td>181.179993</td>\n",
       "      <td>50431.439000</td>\n",
       "      <td>278.349934</td>\n",
       "      <td>278.349934</td>\n",
       "      <td>NaN</td>\n",
       "      <td>46246.802404</td>\n",
       "    </tr>\n",
       "    <tr>\n",
       "      <th>1985-03-01</th>\n",
       "      <td>180.660004</td>\n",
       "      <td>50286.700092</td>\n",
       "      <td>278.349934</td>\n",
       "      <td>278.349934</td>\n",
       "      <td>NaN</td>\n",
       "      <td>44030.743459</td>\n",
       "    </tr>\n",
       "    <tr>\n",
       "      <th>1985-04-01</th>\n",
       "      <td>179.830002</td>\n",
       "      <td>50055.669137</td>\n",
       "      <td>278.349934</td>\n",
       "      <td>278.349934</td>\n",
       "      <td>NaN</td>\n",
       "      <td>41745.124093</td>\n",
       "    </tr>\n",
       "    <tr>\n",
       "      <th>1985-05-01</th>\n",
       "      <td>189.550003</td>\n",
       "      <td>52761.230835</td>\n",
       "      <td>278.349934</td>\n",
       "      <td>278.349934</td>\n",
       "      <td>NaN</td>\n",
       "      <td>41918.162068</td>\n",
       "    </tr>\n",
       "    <tr>\n",
       "      <th>...</th>\n",
       "      <td>...</td>\n",
       "      <td>...</td>\n",
       "      <td>...</td>\n",
       "      <td>...</td>\n",
       "      <td>...</td>\n",
       "      <td>...</td>\n",
       "    </tr>\n",
       "    <tr>\n",
       "      <th>1994-08-01</th>\n",
       "      <td>475.489990</td>\n",
       "      <td>132352.607390</td>\n",
       "      <td>278.349934</td>\n",
       "      <td>278.349934</td>\n",
       "      <td>NaN</td>\n",
       "      <td>15817.933976</td>\n",
       "    </tr>\n",
       "    <tr>\n",
       "      <th>1994-09-01</th>\n",
       "      <td>462.709991</td>\n",
       "      <td>128795.295574</td>\n",
       "      <td>278.349934</td>\n",
       "      <td>278.349934</td>\n",
       "      <td>NaN</td>\n",
       "      <td>15392.786904</td>\n",
       "    </tr>\n",
       "    <tr>\n",
       "      <th>1994-10-01</th>\n",
       "      <td>472.350006</td>\n",
       "      <td>131478.593014</td>\n",
       "      <td>278.349934</td>\n",
       "      <td>278.349934</td>\n",
       "      <td>NaN</td>\n",
       "      <td>15713.477389</td>\n",
       "    </tr>\n",
       "    <tr>\n",
       "      <th>1994-11-01</th>\n",
       "      <td>453.690002</td>\n",
       "      <td>126284.582227</td>\n",
       "      <td>278.349934</td>\n",
       "      <td>278.349934</td>\n",
       "      <td>NaN</td>\n",
       "      <td>15092.722563</td>\n",
       "    </tr>\n",
       "    <tr>\n",
       "      <th>1994-12-01</th>\n",
       "      <td>459.269989</td>\n",
       "      <td>127837.771121</td>\n",
       "      <td>278.349934</td>\n",
       "      <td>278.349934</td>\n",
       "      <td>NaN</td>\n",
       "      <td>15278.349729</td>\n",
       "    </tr>\n",
       "  </tbody>\n",
       "</table>\n",
       "<p>120 rows × 6 columns</p>\n",
       "</div>"
      ],
      "text/plain": [
       "                     close  portfolio_waarde  aantal aandelen       stuks  \\\n",
       "formatted_date                                                              \n",
       "1985-01-01      179.630005      50000.000000       278.349934  278.349934   \n",
       "1985-02-01      181.179993      50431.439000       278.349934  278.349934   \n",
       "1985-03-01      180.660004      50286.700092       278.349934  278.349934   \n",
       "1985-04-01      179.830002      50055.669137       278.349934  278.349934   \n",
       "1985-05-01      189.550003      52761.230835       278.349934  278.349934   \n",
       "...                    ...               ...              ...         ...   \n",
       "1994-08-01      475.489990     132352.607390       278.349934  278.349934   \n",
       "1994-09-01      462.709991     128795.295574       278.349934  278.349934   \n",
       "1994-10-01      472.350006     131478.593014       278.349934  278.349934   \n",
       "1994-11-01      453.690002     126284.582227       278.349934  278.349934   \n",
       "1994-12-01      459.269989     127837.771121       278.349934  278.349934   \n",
       "\n",
       "                cash      verschil  \n",
       "formatted_date                      \n",
       "1985-01-01       NaN  47916.670000  \n",
       "1985-02-01       NaN  46246.802404  \n",
       "1985-03-01       NaN  44030.743459  \n",
       "1985-04-01       NaN  41745.124093  \n",
       "1985-05-01       NaN  41918.162068  \n",
       "...              ...           ...  \n",
       "1994-08-01       NaN  15817.933976  \n",
       "1994-09-01       NaN  15392.786904  \n",
       "1994-10-01       NaN  15713.477389  \n",
       "1994-11-01       NaN  15092.722563  \n",
       "1994-12-01       NaN  15278.349729  \n",
       "\n",
       "[120 rows x 6 columns]"
      ]
     },
     "execution_count": 334,
     "metadata": {},
     "output_type": "execute_result"
    }
   ],
   "source": [
    "df1['verschil'] = df1['portfolio_waarde'] - dca['portfolio_waarde']\n",
    "df1"
   ]
  },
  {
   "cell_type": "code",
   "execution_count": 335,
   "id": "b16a41c9",
   "metadata": {},
   "outputs": [
    {
     "data": {
      "text/plain": [
       "[Text(0.5, 0, ''), Text(0, 0.5, '')]"
      ]
     },
     "execution_count": 335,
     "metadata": {},
     "output_type": "execute_result"
    },
    {
     "data": {
      "image/png": "[encoded data removed]",
      "text/plain": [
       "<Figure size 432x288 with 1 Axes>"
      ]
     },
     "metadata": {
      "needs_background": "light"
     },
     "output_type": "display_data"
    }
   ],
   "source": [
    "ax = sns.lineplot(data=df1['verschil'])\n",
    "ax.yaxis.set_major_formatter('${x:1.1f}')\n",
    "ax.set_title(\"lump sum - dca\")\n",
    "ax.set(xlabel=None, ylabel=None)"
   ]
  },
  {
   "cell_type": "code",
   "execution_count": 336,
   "id": "33698591",
   "metadata": {},
   "outputs": [
    {
     "data": {
      "text/plain": [
       "Text(0.5, 0.01, 'Bron: devrijestier.nl')"
      ]
     },
     "execution_count": 336,
     "metadata": {},
     "output_type": "execute_result"
    },
    {
     "data": {
      "image/png": "[encoded data removed]",
      "text/plain": [
       "<Figure size 432x288 with 1 Axes>"
      ]
     },
     "metadata": {
      "needs_background": "light"
     },
     "output_type": "display_data"
    }
   ],
   "source": [
    "ax1 = sns.lineplot(data=dca['portfolio_waarde'])\n",
    "ax2 = sns.lineplot(data=df1['portfolio_waarde'])\n",
    "ax1.yaxis.set_major_formatter('${x:1.1f}')\n",
    "ax1.set_title(\"Gespreid Beleggen vs Alles in één keer\")\n",
    "plt.legend(labels=[\"GB\", \"A1\"])\n",
    "ax1.set(xlabel=None, ylabel=None)\n",
    "txt=\"Bron: devrijestier.nl\"\n",
    "plt.figtext(0.5, 0.01, txt, wrap=True, horizontalalignment='center', fontsize=11)"
   ]
  },
  {
   "cell_type": "code",
   "execution_count": 337,
   "id": "862deb64",
   "metadata": {},
   "outputs": [
    {
     "data": {
      "text/plain": [
       "16021.525388192822"
      ]
     },
     "execution_count": 337,
     "metadata": {},
     "output_type": "execute_result"
    }
   ],
   "source": [
    "verschil = np.max(df1['portfolio_waarde']) - np.max(dca['portfolio_waarde'])\n",
    "verschil"
   ]
  },
  {
   "cell_type": "code",
   "execution_count": null,
   "id": "35389896",
   "metadata": {},
   "outputs": [],
   "source": []
  },
  {
   "cell_type": "code",
   "execution_count": 352,
   "id": "82d8077f",
   "metadata": {},
   "outputs": [
    {
     "data": {
      "text/html": [
       "<div>\n",
       "<style scoped>\n",
       "    .dataframe tbody tr th:only-of-type {\n",
       "        vertical-align: middle;\n",
       "    }\n",
       "\n",
       "    .dataframe tbody tr th {\n",
       "        vertical-align: top;\n",
       "    }\n",
       "\n",
       "    .dataframe thead th {\n",
       "        text-align: right;\n",
       "    }\n",
       "</style>\n",
       "<table border=\"1\" class=\"dataframe\">\n",
       "  <thead>\n",
       "    <tr style=\"text-align: right;\">\n",
       "      <th></th>\n",
       "      <th>periode</th>\n",
       "      <th>verschil (A1 min GB)</th>\n",
       "    </tr>\n",
       "  </thead>\n",
       "  <tbody>\n",
       "    <tr>\n",
       "      <th>0</th>\n",
       "      <td>1980-2000</td>\n",
       "      <td>48876</td>\n",
       "    </tr>\n",
       "    <tr>\n",
       "      <th>1</th>\n",
       "      <td>1985-2005</td>\n",
       "      <td>50488</td>\n",
       "    </tr>\n",
       "    <tr>\n",
       "      <th>2</th>\n",
       "      <td>1990-2010</td>\n",
       "      <td>9014</td>\n",
       "    </tr>\n",
       "    <tr>\n",
       "      <th>3</th>\n",
       "      <td>1995-2015</td>\n",
       "      <td>42280</td>\n",
       "    </tr>\n",
       "    <tr>\n",
       "      <th>4</th>\n",
       "      <td>2000-2020</td>\n",
       "      <td>-15587</td>\n",
       "    </tr>\n",
       "  </tbody>\n",
       "</table>\n",
       "</div>"
      ],
      "text/plain": [
       "     periode  verschil (A1 min GB)\n",
       "0  1980-2000                 48876\n",
       "1  1985-2005                 50488\n",
       "2  1990-2010                  9014\n",
       "3  1995-2015                 42280\n",
       "4  2000-2020                -15587"
      ]
     },
     "execution_count": 352,
     "metadata": {},
     "output_type": "execute_result"
    }
   ],
   "source": [
    "table_data = {'periode': [\"1980-2000\", \"1985-2005\", \"1990-2010\", \"1995-2015\", \"2000-2020\"]\n",
    "              , 'verschil (A1 min GB)': [48876, 50488, 9014, 42280, -15587]}\n",
    "new_table = pd.DataFrame(data=table_data)\n",
    "new_table"
   ]
  },
  {
   "cell_type": "code",
   "execution_count": 356,
   "id": "39cc5727",
   "metadata": {},
   "outputs": [
    {
     "ename": "TypeError",
     "evalue": "unhashable type: 'numpy.ndarray'",
     "output_type": "error",
     "traceback": [
      "\u001b[1;31m---------------------------------------------------------------------------\u001b[0m",
      "\u001b[1;31mTypeError\u001b[0m                                 Traceback (most recent call last)",
      "\u001b[1;32m<ipython-input-356-b873193f8c95>\u001b[0m in \u001b[0;36m<module>\u001b[1;34m\u001b[0m\n\u001b[1;32m----> 1\u001b[1;33m \u001b[0mplt\u001b[0m\u001b[1;33m.\u001b[0m\u001b[0mbar\u001b[0m\u001b[1;33m(\u001b[0m\u001b[0mnew_table\u001b[0m\u001b[1;33m,\u001b[0m \u001b[0mheight\u001b[0m\u001b[1;33m=\u001b[0m\u001b[1;36m7\u001b[0m\u001b[1;33m)\u001b[0m\u001b[1;33m\u001b[0m\u001b[1;33m\u001b[0m\u001b[0m\n\u001b[0m",
      "\u001b[1;32m~\\anaconda3\\lib\\site-packages\\matplotlib\\pyplot.py\u001b[0m in \u001b[0;36mbar\u001b[1;34m(x, height, width, bottom, align, data, **kwargs)\u001b[0m\n\u001b[0;32m   2485\u001b[0m         \u001b[0mx\u001b[0m\u001b[1;33m,\u001b[0m \u001b[0mheight\u001b[0m\u001b[1;33m,\u001b[0m \u001b[0mwidth\u001b[0m\u001b[1;33m=\u001b[0m\u001b[1;36m0.8\u001b[0m\u001b[1;33m,\u001b[0m \u001b[0mbottom\u001b[0m\u001b[1;33m=\u001b[0m\u001b[1;32mNone\u001b[0m\u001b[1;33m,\u001b[0m \u001b[1;33m*\u001b[0m\u001b[1;33m,\u001b[0m \u001b[0malign\u001b[0m\u001b[1;33m=\u001b[0m\u001b[1;34m'center'\u001b[0m\u001b[1;33m,\u001b[0m\u001b[1;33m\u001b[0m\u001b[1;33m\u001b[0m\u001b[0m\n\u001b[0;32m   2486\u001b[0m         data=None, **kwargs):\n\u001b[1;32m-> 2487\u001b[1;33m     return gca().bar(\n\u001b[0m\u001b[0;32m   2488\u001b[0m         \u001b[0mx\u001b[0m\u001b[1;33m,\u001b[0m \u001b[0mheight\u001b[0m\u001b[1;33m,\u001b[0m \u001b[0mwidth\u001b[0m\u001b[1;33m=\u001b[0m\u001b[0mwidth\u001b[0m\u001b[1;33m,\u001b[0m \u001b[0mbottom\u001b[0m\u001b[1;33m=\u001b[0m\u001b[0mbottom\u001b[0m\u001b[1;33m,\u001b[0m \u001b[0malign\u001b[0m\u001b[1;33m=\u001b[0m\u001b[0malign\u001b[0m\u001b[1;33m,\u001b[0m\u001b[1;33m\u001b[0m\u001b[1;33m\u001b[0m\u001b[0m\n\u001b[0;32m   2489\u001b[0m         **({\"data\": data} if data is not None else {}), **kwargs)\n",
      "\u001b[1;32m~\\anaconda3\\lib\\site-packages\\matplotlib\\__init__.py\u001b[0m in \u001b[0;36minner\u001b[1;34m(ax, data, *args, **kwargs)\u001b[0m\n\u001b[0;32m   1436\u001b[0m     \u001b[1;32mdef\u001b[0m \u001b[0minner\u001b[0m\u001b[1;33m(\u001b[0m\u001b[0max\u001b[0m\u001b[1;33m,\u001b[0m \u001b[1;33m*\u001b[0m\u001b[0margs\u001b[0m\u001b[1;33m,\u001b[0m \u001b[0mdata\u001b[0m\u001b[1;33m=\u001b[0m\u001b[1;32mNone\u001b[0m\u001b[1;33m,\u001b[0m \u001b[1;33m**\u001b[0m\u001b[0mkwargs\u001b[0m\u001b[1;33m)\u001b[0m\u001b[1;33m:\u001b[0m\u001b[1;33m\u001b[0m\u001b[1;33m\u001b[0m\u001b[0m\n\u001b[0;32m   1437\u001b[0m         \u001b[1;32mif\u001b[0m \u001b[0mdata\u001b[0m \u001b[1;32mis\u001b[0m \u001b[1;32mNone\u001b[0m\u001b[1;33m:\u001b[0m\u001b[1;33m\u001b[0m\u001b[1;33m\u001b[0m\u001b[0m\n\u001b[1;32m-> 1438\u001b[1;33m             \u001b[1;32mreturn\u001b[0m \u001b[0mfunc\u001b[0m\u001b[1;33m(\u001b[0m\u001b[0max\u001b[0m\u001b[1;33m,\u001b[0m \u001b[1;33m*\u001b[0m\u001b[0mmap\u001b[0m\u001b[1;33m(\u001b[0m\u001b[0msanitize_sequence\u001b[0m\u001b[1;33m,\u001b[0m \u001b[0margs\u001b[0m\u001b[1;33m)\u001b[0m\u001b[1;33m,\u001b[0m \u001b[1;33m**\u001b[0m\u001b[0mkwargs\u001b[0m\u001b[1;33m)\u001b[0m\u001b[1;33m\u001b[0m\u001b[1;33m\u001b[0m\u001b[0m\n\u001b[0m\u001b[0;32m   1439\u001b[0m \u001b[1;33m\u001b[0m\u001b[0m\n\u001b[0;32m   1440\u001b[0m         \u001b[0mbound\u001b[0m \u001b[1;33m=\u001b[0m \u001b[0mnew_sig\u001b[0m\u001b[1;33m.\u001b[0m\u001b[0mbind\u001b[0m\u001b[1;33m(\u001b[0m\u001b[0max\u001b[0m\u001b[1;33m,\u001b[0m \u001b[1;33m*\u001b[0m\u001b[0margs\u001b[0m\u001b[1;33m,\u001b[0m \u001b[1;33m**\u001b[0m\u001b[0mkwargs\u001b[0m\u001b[1;33m)\u001b[0m\u001b[1;33m\u001b[0m\u001b[1;33m\u001b[0m\u001b[0m\n",
      "\u001b[1;32m~\\anaconda3\\lib\\site-packages\\matplotlib\\axes\\_axes.py\u001b[0m in \u001b[0;36mbar\u001b[1;34m(self, x, height, width, bottom, align, **kwargs)\u001b[0m\n\u001b[0;32m   2405\u001b[0m \u001b[1;33m\u001b[0m\u001b[0m\n\u001b[0;32m   2406\u001b[0m         \u001b[1;32mif\u001b[0m \u001b[0morientation\u001b[0m \u001b[1;33m==\u001b[0m \u001b[1;34m'vertical'\u001b[0m\u001b[1;33m:\u001b[0m\u001b[1;33m\u001b[0m\u001b[1;33m\u001b[0m\u001b[0m\n\u001b[1;32m-> 2407\u001b[1;33m             \u001b[0mself\u001b[0m\u001b[1;33m.\u001b[0m\u001b[0m_process_unit_info\u001b[0m\u001b[1;33m(\u001b[0m\u001b[0mxdata\u001b[0m\u001b[1;33m=\u001b[0m\u001b[0mx\u001b[0m\u001b[1;33m,\u001b[0m \u001b[0mydata\u001b[0m\u001b[1;33m=\u001b[0m\u001b[0mheight\u001b[0m\u001b[1;33m,\u001b[0m \u001b[0mkwargs\u001b[0m\u001b[1;33m=\u001b[0m\u001b[0mkwargs\u001b[0m\u001b[1;33m)\u001b[0m\u001b[1;33m\u001b[0m\u001b[1;33m\u001b[0m\u001b[0m\n\u001b[0m\u001b[0;32m   2408\u001b[0m             \u001b[1;32mif\u001b[0m \u001b[0mlog\u001b[0m\u001b[1;33m:\u001b[0m\u001b[1;33m\u001b[0m\u001b[1;33m\u001b[0m\u001b[0m\n\u001b[0;32m   2409\u001b[0m                 \u001b[0mself\u001b[0m\u001b[1;33m.\u001b[0m\u001b[0mset_yscale\u001b[0m\u001b[1;33m(\u001b[0m\u001b[1;34m'log'\u001b[0m\u001b[1;33m,\u001b[0m \u001b[0mnonpositive\u001b[0m\u001b[1;33m=\u001b[0m\u001b[1;34m'clip'\u001b[0m\u001b[1;33m)\u001b[0m\u001b[1;33m\u001b[0m\u001b[1;33m\u001b[0m\u001b[0m\n",
      "\u001b[1;32m~\\anaconda3\\lib\\site-packages\\matplotlib\\axes\\_base.py\u001b[0m in \u001b[0;36m_process_unit_info\u001b[1;34m(self, xdata, ydata, kwargs)\u001b[0m\n\u001b[0;32m   2187\u001b[0m             \u001b[1;32mreturn\u001b[0m \u001b[0mkwargs\u001b[0m\u001b[1;33m\u001b[0m\u001b[1;33m\u001b[0m\u001b[0m\n\u001b[0;32m   2188\u001b[0m \u001b[1;33m\u001b[0m\u001b[0m\n\u001b[1;32m-> 2189\u001b[1;33m         \u001b[0mkwargs\u001b[0m \u001b[1;33m=\u001b[0m \u001b[0m_process_single_axis\u001b[0m\u001b[1;33m(\u001b[0m\u001b[0mxdata\u001b[0m\u001b[1;33m,\u001b[0m \u001b[0mself\u001b[0m\u001b[1;33m.\u001b[0m\u001b[0mxaxis\u001b[0m\u001b[1;33m,\u001b[0m \u001b[1;34m'xunits'\u001b[0m\u001b[1;33m,\u001b[0m \u001b[0mkwargs\u001b[0m\u001b[1;33m)\u001b[0m\u001b[1;33m\u001b[0m\u001b[1;33m\u001b[0m\u001b[0m\n\u001b[0m\u001b[0;32m   2190\u001b[0m         \u001b[0mkwargs\u001b[0m \u001b[1;33m=\u001b[0m \u001b[0m_process_single_axis\u001b[0m\u001b[1;33m(\u001b[0m\u001b[0mydata\u001b[0m\u001b[1;33m,\u001b[0m \u001b[0mself\u001b[0m\u001b[1;33m.\u001b[0m\u001b[0myaxis\u001b[0m\u001b[1;33m,\u001b[0m \u001b[1;34m'yunits'\u001b[0m\u001b[1;33m,\u001b[0m \u001b[0mkwargs\u001b[0m\u001b[1;33m)\u001b[0m\u001b[1;33m\u001b[0m\u001b[1;33m\u001b[0m\u001b[0m\n\u001b[0;32m   2191\u001b[0m         \u001b[1;32mreturn\u001b[0m \u001b[0mkwargs\u001b[0m\u001b[1;33m\u001b[0m\u001b[1;33m\u001b[0m\u001b[0m\n",
      "\u001b[1;32m~\\anaconda3\\lib\\site-packages\\matplotlib\\axes\\_base.py\u001b[0m in \u001b[0;36m_process_single_axis\u001b[1;34m(data, axis, unit_name, kwargs)\u001b[0m\n\u001b[0;32m   2170\u001b[0m                 \u001b[1;31m# We only need to update if there is nothing set yet.\u001b[0m\u001b[1;33m\u001b[0m\u001b[1;33m\u001b[0m\u001b[1;33m\u001b[0m\u001b[0m\n\u001b[0;32m   2171\u001b[0m                 \u001b[1;32mif\u001b[0m \u001b[1;32mnot\u001b[0m \u001b[0maxis\u001b[0m\u001b[1;33m.\u001b[0m\u001b[0mhave_units\u001b[0m\u001b[1;33m(\u001b[0m\u001b[1;33m)\u001b[0m\u001b[1;33m:\u001b[0m\u001b[1;33m\u001b[0m\u001b[1;33m\u001b[0m\u001b[0m\n\u001b[1;32m-> 2172\u001b[1;33m                     \u001b[0maxis\u001b[0m\u001b[1;33m.\u001b[0m\u001b[0mupdate_units\u001b[0m\u001b[1;33m(\u001b[0m\u001b[0mdata\u001b[0m\u001b[1;33m)\u001b[0m\u001b[1;33m\u001b[0m\u001b[1;33m\u001b[0m\u001b[0m\n\u001b[0m\u001b[0;32m   2173\u001b[0m \u001b[1;33m\u001b[0m\u001b[0m\n\u001b[0;32m   2174\u001b[0m             \u001b[1;31m# Check for units in the kwargs, and if present update axis\u001b[0m\u001b[1;33m\u001b[0m\u001b[1;33m\u001b[0m\u001b[1;33m\u001b[0m\u001b[0m\n",
      "\u001b[1;32m~\\anaconda3\\lib\\site-packages\\matplotlib\\axis.py\u001b[0m in \u001b[0;36mupdate_units\u001b[1;34m(self, data)\u001b[0m\n\u001b[0;32m   1461\u001b[0m         \u001b[0mneednew\u001b[0m \u001b[1;33m=\u001b[0m \u001b[0mself\u001b[0m\u001b[1;33m.\u001b[0m\u001b[0mconverter\u001b[0m \u001b[1;33m!=\u001b[0m \u001b[0mconverter\u001b[0m\u001b[1;33m\u001b[0m\u001b[1;33m\u001b[0m\u001b[0m\n\u001b[0;32m   1462\u001b[0m         \u001b[0mself\u001b[0m\u001b[1;33m.\u001b[0m\u001b[0mconverter\u001b[0m \u001b[1;33m=\u001b[0m \u001b[0mconverter\u001b[0m\u001b[1;33m\u001b[0m\u001b[1;33m\u001b[0m\u001b[0m\n\u001b[1;32m-> 1463\u001b[1;33m         \u001b[0mdefault\u001b[0m \u001b[1;33m=\u001b[0m \u001b[0mself\u001b[0m\u001b[1;33m.\u001b[0m\u001b[0mconverter\u001b[0m\u001b[1;33m.\u001b[0m\u001b[0mdefault_units\u001b[0m\u001b[1;33m(\u001b[0m\u001b[0mdata\u001b[0m\u001b[1;33m,\u001b[0m \u001b[0mself\u001b[0m\u001b[1;33m)\u001b[0m\u001b[1;33m\u001b[0m\u001b[1;33m\u001b[0m\u001b[0m\n\u001b[0m\u001b[0;32m   1464\u001b[0m         \u001b[1;32mif\u001b[0m \u001b[0mdefault\u001b[0m \u001b[1;32mis\u001b[0m \u001b[1;32mnot\u001b[0m \u001b[1;32mNone\u001b[0m \u001b[1;32mand\u001b[0m \u001b[0mself\u001b[0m\u001b[1;33m.\u001b[0m\u001b[0munits\u001b[0m \u001b[1;32mis\u001b[0m \u001b[1;32mNone\u001b[0m\u001b[1;33m:\u001b[0m\u001b[1;33m\u001b[0m\u001b[1;33m\u001b[0m\u001b[0m\n\u001b[0;32m   1465\u001b[0m             \u001b[0mself\u001b[0m\u001b[1;33m.\u001b[0m\u001b[0mset_units\u001b[0m\u001b[1;33m(\u001b[0m\u001b[0mdefault\u001b[0m\u001b[1;33m)\u001b[0m\u001b[1;33m\u001b[0m\u001b[1;33m\u001b[0m\u001b[0m\n",
      "\u001b[1;32m~\\anaconda3\\lib\\site-packages\\matplotlib\\category.py\u001b[0m in \u001b[0;36mdefault_units\u001b[1;34m(data, axis)\u001b[0m\n\u001b[0;32m    105\u001b[0m         \u001b[1;31m# the conversion call stack is default_units -> axis_info -> convert\u001b[0m\u001b[1;33m\u001b[0m\u001b[1;33m\u001b[0m\u001b[1;33m\u001b[0m\u001b[0m\n\u001b[0;32m    106\u001b[0m         \u001b[1;32mif\u001b[0m \u001b[0maxis\u001b[0m\u001b[1;33m.\u001b[0m\u001b[0munits\u001b[0m \u001b[1;32mis\u001b[0m \u001b[1;32mNone\u001b[0m\u001b[1;33m:\u001b[0m\u001b[1;33m\u001b[0m\u001b[1;33m\u001b[0m\u001b[0m\n\u001b[1;32m--> 107\u001b[1;33m             \u001b[0maxis\u001b[0m\u001b[1;33m.\u001b[0m\u001b[0mset_units\u001b[0m\u001b[1;33m(\u001b[0m\u001b[0mUnitData\u001b[0m\u001b[1;33m(\u001b[0m\u001b[0mdata\u001b[0m\u001b[1;33m)\u001b[0m\u001b[1;33m)\u001b[0m\u001b[1;33m\u001b[0m\u001b[1;33m\u001b[0m\u001b[0m\n\u001b[0m\u001b[0;32m    108\u001b[0m         \u001b[1;32melse\u001b[0m\u001b[1;33m:\u001b[0m\u001b[1;33m\u001b[0m\u001b[1;33m\u001b[0m\u001b[0m\n\u001b[0;32m    109\u001b[0m             \u001b[0maxis\u001b[0m\u001b[1;33m.\u001b[0m\u001b[0munits\u001b[0m\u001b[1;33m.\u001b[0m\u001b[0mupdate\u001b[0m\u001b[1;33m(\u001b[0m\u001b[0mdata\u001b[0m\u001b[1;33m)\u001b[0m\u001b[1;33m\u001b[0m\u001b[1;33m\u001b[0m\u001b[0m\n",
      "\u001b[1;32m~\\anaconda3\\lib\\site-packages\\matplotlib\\category.py\u001b[0m in \u001b[0;36m__init__\u001b[1;34m(self, data)\u001b[0m\n\u001b[0;32m    174\u001b[0m         \u001b[0mself\u001b[0m\u001b[1;33m.\u001b[0m\u001b[0m_counter\u001b[0m \u001b[1;33m=\u001b[0m \u001b[0mitertools\u001b[0m\u001b[1;33m.\u001b[0m\u001b[0mcount\u001b[0m\u001b[1;33m(\u001b[0m\u001b[1;33m)\u001b[0m\u001b[1;33m\u001b[0m\u001b[1;33m\u001b[0m\u001b[0m\n\u001b[0;32m    175\u001b[0m         \u001b[1;32mif\u001b[0m \u001b[0mdata\u001b[0m \u001b[1;32mis\u001b[0m \u001b[1;32mnot\u001b[0m \u001b[1;32mNone\u001b[0m\u001b[1;33m:\u001b[0m\u001b[1;33m\u001b[0m\u001b[1;33m\u001b[0m\u001b[0m\n\u001b[1;32m--> 176\u001b[1;33m             \u001b[0mself\u001b[0m\u001b[1;33m.\u001b[0m\u001b[0mupdate\u001b[0m\u001b[1;33m(\u001b[0m\u001b[0mdata\u001b[0m\u001b[1;33m)\u001b[0m\u001b[1;33m\u001b[0m\u001b[1;33m\u001b[0m\u001b[0m\n\u001b[0m\u001b[0;32m    177\u001b[0m \u001b[1;33m\u001b[0m\u001b[0m\n\u001b[0;32m    178\u001b[0m     \u001b[1;33m@\u001b[0m\u001b[0mstaticmethod\u001b[0m\u001b[1;33m\u001b[0m\u001b[1;33m\u001b[0m\u001b[0m\n",
      "\u001b[1;32m~\\anaconda3\\lib\\site-packages\\matplotlib\\category.py\u001b[0m in \u001b[0;36mupdate\u001b[1;34m(self, data)\u001b[0m\n\u001b[0;32m    207\u001b[0m         \u001b[1;31m# check if convertible to number:\u001b[0m\u001b[1;33m\u001b[0m\u001b[1;33m\u001b[0m\u001b[1;33m\u001b[0m\u001b[0m\n\u001b[0;32m    208\u001b[0m         \u001b[0mconvertible\u001b[0m \u001b[1;33m=\u001b[0m \u001b[1;32mTrue\u001b[0m\u001b[1;33m\u001b[0m\u001b[1;33m\u001b[0m\u001b[0m\n\u001b[1;32m--> 209\u001b[1;33m         \u001b[1;32mfor\u001b[0m \u001b[0mval\u001b[0m \u001b[1;32min\u001b[0m \u001b[0mOrderedDict\u001b[0m\u001b[1;33m.\u001b[0m\u001b[0mfromkeys\u001b[0m\u001b[1;33m(\u001b[0m\u001b[0mdata\u001b[0m\u001b[1;33m)\u001b[0m\u001b[1;33m:\u001b[0m\u001b[1;33m\u001b[0m\u001b[1;33m\u001b[0m\u001b[0m\n\u001b[0m\u001b[0;32m    210\u001b[0m             \u001b[1;31m# OrderedDict just iterates over unique values in data.\u001b[0m\u001b[1;33m\u001b[0m\u001b[1;33m\u001b[0m\u001b[1;33m\u001b[0m\u001b[0m\n\u001b[0;32m    211\u001b[0m             \u001b[0mcbook\u001b[0m\u001b[1;33m.\u001b[0m\u001b[0m_check_isinstance\u001b[0m\u001b[1;33m(\u001b[0m\u001b[1;33m(\u001b[0m\u001b[0mstr\u001b[0m\u001b[1;33m,\u001b[0m \u001b[0mbytes\u001b[0m\u001b[1;33m)\u001b[0m\u001b[1;33m,\u001b[0m \u001b[0mvalue\u001b[0m\u001b[1;33m=\u001b[0m\u001b[0mval\u001b[0m\u001b[1;33m)\u001b[0m\u001b[1;33m\u001b[0m\u001b[1;33m\u001b[0m\u001b[0m\n",
      "\u001b[1;31mTypeError\u001b[0m: unhashable type: 'numpy.ndarray'"
     ]
    },
    {
     "data": {
      "image/png": "[encoded data removed]",
      "text/plain": [
       "<Figure size 432x288 with 1 Axes>"
      ]
     },
     "metadata": {
      "needs_background": "light"
     },
     "output_type": "display_data"
    }
   ],
   "source": [
    "plt.bar(new_table, height=7)"
   ]
  },
  {
   "cell_type": "code",
   "execution_count": null,
   "id": "2e13491d",
   "metadata": {},
   "outputs": [],
   "source": []
  },
  {
   "cell_type": "code",
   "execution_count": null,
   "id": "6f2ffec8",
   "metadata": {},
   "outputs": [],
   "source": []
  },
  {
   "cell_type": "code",
   "execution_count": null,
   "id": "fdfd3f22",
   "metadata": {},
   "outputs": [],
   "source": []
  },
  {
   "cell_type": "code",
   "execution_count": null,
   "id": "66cef568",
   "metadata": {},
   "outputs": [],
   "source": []
  },
  {
   "cell_type": "code",
   "execution_count": null,
   "id": "8e7e069a",
   "metadata": {},
   "outputs": [],
   "source": []
  },
  {
   "cell_type": "code",
   "execution_count": null,
   "id": "6ec9fa67",
   "metadata": {},
   "outputs": [],
   "source": []
  },
  {
   "cell_type": "code",
   "execution_count": null,
   "id": "bd36fbca",
   "metadata": {},
   "outputs": [],
   "source": []
  },
  {
   "cell_type": "code",
   "execution_count": null,
   "id": "620e720b",
   "metadata": {},
   "outputs": [],
   "source": []
  }
 ],
 "metadata": {
  "kernelspec": {
   "display_name": "Python 3",
   "language": "python",
   "name": "python3"
  },
  "language_info": {
   "codemirror_mode": {
    "name": "ipython",
    "version": 3
   },
   "file_extension": ".py",
   "mimetype": "text/x-python",
   "name": "python",
   "nbconvert_exporter": "python",
   "pygments_lexer": "ipython3",
   "version": "3.8.5"
  }
 },
 "nbformat": 4,
 "nbformat_minor": 5
}
