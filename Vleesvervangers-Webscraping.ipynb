{
 "cells": [
  {
   "cell_type": "markdown",
   "id": "727cbd44",
   "metadata": {},
   "source": [
    "## Voedingsstoffen van vleesvervangers op de Nederlandse markt\n",
    "\n",
    "De opmars van vleesvervangers is goed te zien in de schappen van de supermarkt. Dit is een goede ontwikkeling voor het milieu, maar ook voor onze gezondheid. Of zijn vleesvervangers wel zo goed als ze beweren. Er komen langzaamaan kritische geluiden over vleesvervangers en of ze daadwerkelijk wel gezond zijn. IJzer en sodium worden vaak toegevoegd aan vleesvervangers om de smaak en voedingsstoffen van vlees te imiteren. Hoe zit het met het sodiumgehalte van vleesvervangers op de Nederlandse markt? Welk product is aan te raden?\n"
   ]
  },
  {
   "cell_type": "code",
   "execution_count": 1,
   "id": "fa2dffbd",
   "metadata": {},
   "outputs": [],
   "source": [
    "from bs4 import BeautifulSoup\n",
    "import requests\n",
    "import pandas as pd\n",
    "import numpy as np\n",
    "import seaborn as sns"
   ]
  },
  {
   "cell_type": "code",
   "execution_count": 3,
   "id": "c1c8d5a8",
   "metadata": {},
   "outputs": [],
   "source": [
    "# wwww.miekedewaal.nl heeft al veel vleesvervangers gedocumenteerd. De gegevens van haar webiste 'scrape' ik om vervolgens te analyseren.\n",
    "\n",
    "url = \"https://www.miekedewaal.nl/koken/voedingswaarden/vleesvervangers.htm\"\n",
    "data = requests.get(url).text\n",
    "soup = BeautifulSoup(data, \"html5lib\")\n",
    "tables = soup.find_all('table')"
   ]
  },
  {
   "cell_type": "code",
   "execution_count": 103,
   "id": "341cc835",
   "metadata": {},
   "outputs": [
    {
     "data": {
      "text/html": [
       "<div>\n",
       "<style scoped>\n",
       "    .dataframe tbody tr th:only-of-type {\n",
       "        vertical-align: middle;\n",
       "    }\n",
       "\n",
       "    .dataframe tbody tr th {\n",
       "        vertical-align: top;\n",
       "    }\n",
       "\n",
       "    .dataframe thead th {\n",
       "        text-align: right;\n",
       "    }\n",
       "</style>\n",
       "<table border=\"1\" class=\"dataframe\">\n",
       "  <thead>\n",
       "    <tr style=\"text-align: right;\">\n",
       "      <th></th>\n",
       "      <th>Name</th>\n",
       "      <th>Brand</th>\n",
       "      <th>Calories</th>\n",
       "      <th>Protein</th>\n",
       "      <th>Carbs</th>\n",
       "      <th>Sugars</th>\n",
       "      <th>Fats</th>\n",
       "      <th>Sodium</th>\n",
       "      <th>Iron</th>\n",
       "    </tr>\n",
       "  </thead>\n",
       "  <tbody>\n",
       "    <tr>\n",
       "      <th>0</th>\n",
       "      <td>NaN</td>\n",
       "      <td>NaN</td>\n",
       "      <td>179</td>\n",
       "      <td>17.1</td>\n",
       "      <td>11.7</td>\n",
       "      <td>1.0</td>\n",
       "      <td>6.2</td>\n",
       "      <td>1.0</td>\n",
       "      <td>1.0</td>\n",
       "    </tr>\n",
       "    <tr>\n",
       "      <th>1</th>\n",
       "      <td>NaN</td>\n",
       "      <td>NaN</td>\n",
       "      <td>275</td>\n",
       "      <td>13.6</td>\n",
       "      <td>11.9</td>\n",
       "      <td>3.3</td>\n",
       "      <td>18.6</td>\n",
       "      <td>3.3</td>\n",
       "      <td>3.3</td>\n",
       "    </tr>\n",
       "    <tr>\n",
       "      <th>2</th>\n",
       "      <td>NaN</td>\n",
       "      <td>NaN</td>\n",
       "      <td>180</td>\n",
       "      <td>20</td>\n",
       "      <td>5.0</td>\n",
       "      <td>2.0</td>\n",
       "      <td>7.0</td>\n",
       "      <td>2.0</td>\n",
       "      <td>2.0</td>\n",
       "    </tr>\n",
       "    <tr>\n",
       "      <th>3</th>\n",
       "      <td>NaN</td>\n",
       "      <td>NaN</td>\n",
       "      <td>272</td>\n",
       "      <td>18</td>\n",
       "      <td>11.8</td>\n",
       "      <td>3.1</td>\n",
       "      <td>11.8</td>\n",
       "      <td>3.1</td>\n",
       "      <td>3.1</td>\n",
       "    </tr>\n",
       "    <tr>\n",
       "      <th>4</th>\n",
       "      <td>NaN</td>\n",
       "      <td>NaN</td>\n",
       "      <td>163</td>\n",
       "      <td>17.5</td>\n",
       "      <td>13</td>\n",
       "      <td>1.3</td>\n",
       "      <td>3.7</td>\n",
       "      <td>1.3</td>\n",
       "      <td>1.3</td>\n",
       "    </tr>\n",
       "  </tbody>\n",
       "</table>\n",
       "</div>"
      ],
      "text/plain": [
       "  Name Brand Calories Protein  Carbs Sugars   Fats Sodium  Iron\n",
       "0  NaN   NaN     179    17.1   11.7    1.0    6.2    1.0   1.0 \n",
       "1  NaN   NaN     275    13.6   11.9    3.3   18.6    3.3   3.3 \n",
       "2  NaN   NaN     180      20    5.0    2.0    7.0    2.0   2.0 \n",
       "3  NaN   NaN      272     18   11.8    3.1   11.8    3.1   3.1 \n",
       "4  NaN   NaN      163   17.5     13    1.3    3.7    1.3   1.3 "
      ]
     },
     "execution_count": 103,
     "metadata": {},
     "output_type": "execute_result"
    }
   ],
   "source": [
    "product_data = pd.DataFrame(columns=[\"Name\", \"Brand\", \"Calories\", \"Protein\", \"Carbs\", \"Sugars\", \"Fats\", \"Sodium\", \"Iron\"])\n",
    "\n",
    "for index in range(2, len(tables)):\n",
    "    nutrients_data = tables[index].tbody.find_all(\"tr\")\n",
    "    cal_data = nutrients_data[2].find_all(\"td\")\n",
    "    calories = cal_data[1].text.strip(\"kcal\").strip(\"g\").replace(\",\", \".\")\n",
    "    pro_data = nutrients_data[3].find_all(\"td\")\n",
    "    protein = pro_data[1].text.strip(\"kcal\").strip(\"g\").replace(\",\", \".\")  \n",
    "    carbs_data = nutrients_data[4].find_all(\"td\")\n",
    "    carbs = carbs_data[1].text.strip(\"kcal\").strip(\"g\").replace(\",\", \".\")\n",
    "    sugars_data = nutrients_data[5].find_all(\"td\")\n",
    "    sugars = sugars_data[1].text.strip(\"kcal\").strip(\"g\").replace(\",\", \".\")\n",
    "    fats_data = nutrients_data[6].find_all(\"td\")\n",
    "    fats = fats_data[1].text.strip(\"kcal\").strip(\"g\").strip(\"\\n\\t\\t\\t\\t\\t\\t\\t\").replace(\",\", \".\")\n",
    "    sodium_data = nutrients_data[x].find_all(\"td\")\n",
    "    sodium = sodium_data[1].text.strip(\"kcal\").strip(\"g\").replace(\",\", \".\")\n",
    "    iron_data = nutrients_data[x].find_all(\"td\")\n",
    "    iron = iron_data[1].text.strip(\"kcal\").strip(\"g\").replace(\",\", \".\")\n",
    "    product_data = product_data.append({\"Calories\":calories, \"Protein\":protein, \"Carbs\":carbs, \"Sugars\":sugars, \"Fats\":fats, \"Sodium\":sodium, \"Iron\":iron}, ignore_index=True)\n",
    "\n",
    "\n",
    "product_data.head()"
   ]
  },
  {
   "cell_type": "code",
   "execution_count": 74,
   "id": "57e281a4",
   "metadata": {},
   "outputs": [],
   "source": [
    "product_data.to_excel(\"missing_name.xlsx\")"
   ]
  },
  {
   "cell_type": "markdown",
   "id": "2eab9dba",
   "metadata": {},
   "source": [
    "In het missing_name.xlsx heb ik de naam en merk handmatig toegevoegd. Deze eigenschappen zaten omslachtig in de html-code en het was efficiënter om dit handmatig te doen. Bij een grotere dataset zou ik dezelfde methode gebruiken als hierboven. "
   ]
  },
  {
   "cell_type": "code",
   "execution_count": 5,
   "id": "42ad4797",
   "metadata": {},
   "outputs": [],
   "source": [
    "source = \"missing_name.xlsx\"\n",
    "df = pd.read_excel(source)"
   ]
  },
  {
   "cell_type": "code",
   "execution_count": 6,
   "id": "37a74402",
   "metadata": {
    "scrolled": true
   },
   "outputs": [
    {
     "data": {
      "text/html": [
       "<div>\n",
       "<style scoped>\n",
       "    .dataframe tbody tr th:only-of-type {\n",
       "        vertical-align: middle;\n",
       "    }\n",
       "\n",
       "    .dataframe tbody tr th {\n",
       "        vertical-align: top;\n",
       "    }\n",
       "\n",
       "    .dataframe thead th {\n",
       "        text-align: right;\n",
       "    }\n",
       "</style>\n",
       "<table border=\"1\" class=\"dataframe\">\n",
       "  <thead>\n",
       "    <tr style=\"text-align: right;\">\n",
       "      <th></th>\n",
       "      <th>Unnamed: 0</th>\n",
       "      <th>Name</th>\n",
       "      <th>Brand</th>\n",
       "      <th>Calories</th>\n",
       "      <th>Protein</th>\n",
       "      <th>Carbs</th>\n",
       "      <th>Sugars</th>\n",
       "      <th>Fats</th>\n",
       "      <th>Sodium</th>\n",
       "      <th>Iron</th>\n",
       "      <th>Product</th>\n",
       "    </tr>\n",
       "  </thead>\n",
       "  <tbody>\n",
       "    <tr>\n",
       "      <th>0</th>\n",
       "      <td>0</td>\n",
       "      <td>Vivera plant balletjes</td>\n",
       "      <td>Vivera</td>\n",
       "      <td>179</td>\n",
       "      <td>17.1</td>\n",
       "      <td>11.7</td>\n",
       "      <td>1.0</td>\n",
       "      <td>6.2</td>\n",
       "      <td>1.0</td>\n",
       "      <td>1.0</td>\n",
       "      <td>Balletjes</td>\n",
       "    </tr>\n",
       "    <tr>\n",
       "      <th>1</th>\n",
       "      <td>1</td>\n",
       "      <td>Vivera plant groenteballetjes</td>\n",
       "      <td>Vivera</td>\n",
       "      <td>275</td>\n",
       "      <td>13.6</td>\n",
       "      <td>11.9</td>\n",
       "      <td>3.3</td>\n",
       "      <td>18.6</td>\n",
       "      <td>3.3</td>\n",
       "      <td>3.3</td>\n",
       "      <td>Balletjes</td>\n",
       "    </tr>\n",
       "    <tr>\n",
       "      <th>2</th>\n",
       "      <td>2</td>\n",
       "      <td>Vegetarische balletjes</td>\n",
       "      <td>AH</td>\n",
       "      <td>180</td>\n",
       "      <td>20.0</td>\n",
       "      <td>5.0</td>\n",
       "      <td>2.0</td>\n",
       "      <td>7.0</td>\n",
       "      <td>2.0</td>\n",
       "      <td>2.0</td>\n",
       "      <td>Balletjes</td>\n",
       "    </tr>\n",
       "    <tr>\n",
       "      <th>3</th>\n",
       "      <td>3</td>\n",
       "      <td>Vegafit Balletjes</td>\n",
       "      <td>Vegafit</td>\n",
       "      <td>272</td>\n",
       "      <td>18.0</td>\n",
       "      <td>11.8</td>\n",
       "      <td>3.1</td>\n",
       "      <td>11.8</td>\n",
       "      <td>3.1</td>\n",
       "      <td>3.1</td>\n",
       "      <td>Balletjes</td>\n",
       "    </tr>\n",
       "    <tr>\n",
       "      <th>4</th>\n",
       "      <td>4</td>\n",
       "      <td>Vega balletjes</td>\n",
       "      <td>Lidl</td>\n",
       "      <td>163</td>\n",
       "      <td>17.5</td>\n",
       "      <td>13.0</td>\n",
       "      <td>1.3</td>\n",
       "      <td>3.7</td>\n",
       "      <td>1.3</td>\n",
       "      <td>1.3</td>\n",
       "      <td>Balletjes</td>\n",
       "    </tr>\n",
       "  </tbody>\n",
       "</table>\n",
       "</div>"
      ],
      "text/plain": [
       "   Unnamed: 0                           Name    Brand  Calories  Protein  \\\n",
       "0           0         Vivera plant balletjes   Vivera       179     17.1   \n",
       "1           1  Vivera plant groenteballetjes   Vivera       275     13.6   \n",
       "2           2         Vegetarische balletjes       AH       180     20.0   \n",
       "3           3              Vegafit Balletjes  Vegafit       272     18.0   \n",
       "4           4                 Vega balletjes     Lidl       163     17.5   \n",
       "\n",
       "   Carbs  Sugars  Fats  Sodium  Iron    Product  \n",
       "0   11.7     1.0   6.2     1.0   1.0  Balletjes  \n",
       "1   11.9     3.3  18.6     3.3   3.3  Balletjes  \n",
       "2    5.0     2.0   7.0     2.0   2.0  Balletjes  \n",
       "3   11.8     3.1  11.8     3.1   3.1  Balletjes  \n",
       "4   13.0     1.3   3.7     1.3   1.3  Balletjes  "
      ]
     },
     "execution_count": 6,
     "metadata": {},
     "output_type": "execute_result"
    }
   ],
   "source": [
    "df.head()"
   ]
  },
  {
   "cell_type": "code",
   "execution_count": 7,
   "id": "6e43ea1f",
   "metadata": {},
   "outputs": [
    {
     "data": {
      "text/html": [
       "<div>\n",
       "<style scoped>\n",
       "    .dataframe tbody tr th:only-of-type {\n",
       "        vertical-align: middle;\n",
       "    }\n",
       "\n",
       "    .dataframe tbody tr th {\n",
       "        vertical-align: top;\n",
       "    }\n",
       "\n",
       "    .dataframe thead th {\n",
       "        text-align: right;\n",
       "    }\n",
       "</style>\n",
       "<table border=\"1\" class=\"dataframe\">\n",
       "  <thead>\n",
       "    <tr style=\"text-align: right;\">\n",
       "      <th></th>\n",
       "      <th>Unnamed: 0</th>\n",
       "      <th>Name</th>\n",
       "      <th>Brand</th>\n",
       "      <th>Calories</th>\n",
       "      <th>Protein</th>\n",
       "      <th>Carbs</th>\n",
       "      <th>Sugars</th>\n",
       "      <th>Fats</th>\n",
       "      <th>Sodium</th>\n",
       "      <th>Iron</th>\n",
       "      <th>Product</th>\n",
       "    </tr>\n",
       "  </thead>\n",
       "  <tbody>\n",
       "    <tr>\n",
       "      <th>37</th>\n",
       "      <td>37</td>\n",
       "      <td>Biologische tofu roerbakreepjes</td>\n",
       "      <td>AH</td>\n",
       "      <td>215</td>\n",
       "      <td>18.0</td>\n",
       "      <td>1.0</td>\n",
       "      <td>1.0</td>\n",
       "      <td>15.0</td>\n",
       "      <td>1.0</td>\n",
       "      <td>1.0</td>\n",
       "      <td>Kip/Wok</td>\n",
       "    </tr>\n",
       "    <tr>\n",
       "      <th>2</th>\n",
       "      <td>2</td>\n",
       "      <td>Vegetarische balletjes</td>\n",
       "      <td>AH</td>\n",
       "      <td>180</td>\n",
       "      <td>20.0</td>\n",
       "      <td>5.0</td>\n",
       "      <td>2.0</td>\n",
       "      <td>7.0</td>\n",
       "      <td>2.0</td>\n",
       "      <td>2.0</td>\n",
       "      <td>Balletjes</td>\n",
       "    </tr>\n",
       "    <tr>\n",
       "      <th>9</th>\n",
       "      <td>9</td>\n",
       "      <td>Biologische pompoen tijmburger</td>\n",
       "      <td>AH</td>\n",
       "      <td>170</td>\n",
       "      <td>5.0</td>\n",
       "      <td>19.0</td>\n",
       "      <td>4.0</td>\n",
       "      <td>7.5</td>\n",
       "      <td>4.0</td>\n",
       "      <td>4.0</td>\n",
       "      <td>Burger</td>\n",
       "    </tr>\n",
       "    <tr>\n",
       "      <th>39</th>\n",
       "      <td>39</td>\n",
       "      <td>Vegetatische wokstukjes</td>\n",
       "      <td>Chef Select</td>\n",
       "      <td>164</td>\n",
       "      <td>20.9</td>\n",
       "      <td>2.8</td>\n",
       "      <td>0.6</td>\n",
       "      <td>6.0</td>\n",
       "      <td>0.6</td>\n",
       "      <td>0.6</td>\n",
       "      <td>Kip/Wok</td>\n",
       "    </tr>\n",
       "    <tr>\n",
       "      <th>14</th>\n",
       "      <td>14</td>\n",
       "      <td>Vega burger deluxe mini</td>\n",
       "      <td>Garden Gourmet</td>\n",
       "      <td>158</td>\n",
       "      <td>17.0</td>\n",
       "      <td>8.7</td>\n",
       "      <td>3.2</td>\n",
       "      <td>5.0</td>\n",
       "      <td>3.2</td>\n",
       "      <td>3.2</td>\n",
       "      <td>Burger</td>\n",
       "    </tr>\n",
       "  </tbody>\n",
       "</table>\n",
       "</div>"
      ],
      "text/plain": [
       "    Unnamed: 0                             Name           Brand  Calories  \\\n",
       "37          37  Biologische tofu roerbakreepjes              AH       215   \n",
       "2            2           Vegetarische balletjes              AH       180   \n",
       "9            9   Biologische pompoen tijmburger              AH       170   \n",
       "39          39          Vegetatische wokstukjes     Chef Select       164   \n",
       "14          14          Vega burger deluxe mini  Garden Gourmet       158   \n",
       "\n",
       "    Protein  Carbs  Sugars  Fats  Sodium  Iron    Product  \n",
       "37     18.0    1.0     1.0  15.0     1.0   1.0    Kip/Wok  \n",
       "2      20.0    5.0     2.0   7.0     2.0   2.0  Balletjes  \n",
       "9       5.0   19.0     4.0   7.5     4.0   4.0     Burger  \n",
       "39     20.9    2.8     0.6   6.0     0.6   0.6    Kip/Wok  \n",
       "14     17.0    8.7     3.2   5.0     3.2   3.2     Burger  "
      ]
     },
     "execution_count": 7,
     "metadata": {},
     "output_type": "execute_result"
    }
   ],
   "source": [
    "df = df.sort_values('Brand')\n",
    "df.head()"
   ]
  },
  {
   "cell_type": "code",
   "execution_count": 8,
   "id": "59293595",
   "metadata": {},
   "outputs": [],
   "source": [
    "import matplotlib.pyplot as plt\n",
    "%matplotlib inline"
   ]
  },
  {
   "cell_type": "code",
   "execution_count": 9,
   "id": "5ac496c7",
   "metadata": {
    "scrolled": true
   },
   "outputs": [
    {
     "data": {
      "text/plain": [
       "<function matplotlib.pyplot.show(close=None, block=None)>"
      ]
     },
     "execution_count": 9,
     "metadata": {},
     "output_type": "execute_result"
    },
    {
     "data": {
      "image/png": "[encoded data removed]",
      "text/plain": [
       "<Figure size 432x288 with 1 Axes>"
      ]
     },
     "metadata": {
      "needs_background": "light"
     },
     "output_type": "display_data"
    }
   ],
   "source": [
    "plot = sns.swarmplot(x=\"Brand\", y='Sodium', data=df)\n",
    "plt.setp(plot.get_xticklabels(), rotation=70)\n",
    "plt.title('Sodium Content')\n",
    "plt.show"
   ]
  },
  {
   "cell_type": "markdown",
   "id": "e5ac7cf2",
   "metadata": {},
   "source": [
    "Swarmplot geeft een overzicht van zoutverdeling over de verschillende merken. Er zit geen duidelijk verband in. Opmerking is dat 'De Vegatarische Slager' laag scoort met hun assortiment. "
   ]
  },
  {
   "cell_type": "code",
   "execution_count": 10,
   "id": "af45e1f1",
   "metadata": {},
   "outputs": [
    {
     "data": {
      "text/plain": [
       "36"
      ]
     },
     "execution_count": 10,
     "metadata": {},
     "output_type": "execute_result"
    }
   ],
   "source": [
    "# Index van product met laagste sodiumgehalte. \n",
    "df['Sodium'].idxmin()"
   ]
  },
  {
   "cell_type": "code",
   "execution_count": 196,
   "id": "2a241b35",
   "metadata": {},
   "outputs": [
    {
     "data": {
      "text/plain": [
       "Unnamed: 0                   36\n",
       "Name          Valess Wokstukjes\n",
       "Brand                    Valess\n",
       "Calories                    210\n",
       "Protein                    29.8\n",
       "Carbs                       0.2\n",
       "Sugars                     0.25\n",
       "Fats                        5.0\n",
       "Sodium                     0.25\n",
       "Iron                       0.25\n",
       "Product                 Kip/Wok\n",
       "Name: 36, dtype: object"
      ]
     },
     "execution_count": 196,
     "metadata": {},
     "output_type": "execute_result"
    }
   ],
   "source": [
    "min_sodium = df.loc[36]\n",
    "min_sodium"
   ]
  },
  {
   "cell_type": "code",
   "execution_count": 197,
   "id": "f120d5e6",
   "metadata": {},
   "outputs": [
    {
     "data": {
      "text/plain": [
       "Unnamed: 0                     29\n",
       "Name          Vivera Plantspekjes\n",
       "Brand                      Vivera\n",
       "Calories                       96\n",
       "Protein                      15.0\n",
       "Carbs                         5.9\n",
       "Sugars                        0.4\n",
       "Fats                          0.5\n",
       "Sodium                        0.4\n",
       "Iron                          0.5\n",
       "Product                      Spek\n",
       "Name: 29, dtype: object"
      ]
     },
     "execution_count": 197,
     "metadata": {},
     "output_type": "execute_result"
    }
   ],
   "source": [
    "min_cal = df.loc[df['Calories'].idxmin()]\n",
    "min_cal"
   ]
  },
  {
   "cell_type": "code",
   "execution_count": 198,
   "id": "98801fb4",
   "metadata": {},
   "outputs": [
    {
     "data": {
      "text/plain": [
       "Unnamed: 0                   36\n",
       "Name          Valess Wokstukjes\n",
       "Brand                    Valess\n",
       "Calories                    210\n",
       "Protein                    29.8\n",
       "Carbs                       0.2\n",
       "Sugars                     0.25\n",
       "Fats                        5.0\n",
       "Sodium                     0.25\n",
       "Iron                       0.25\n",
       "Product                 Kip/Wok\n",
       "Name: 36, dtype: object"
      ]
     },
     "execution_count": 198,
     "metadata": {},
     "output_type": "execute_result"
    }
   ],
   "source": [
    "max_protein = df.loc[df['Protein'].idxmax()]\n",
    "max_protein"
   ]
  },
  {
   "cell_type": "code",
   "execution_count": 199,
   "id": "ce58620d",
   "metadata": {},
   "outputs": [
    {
     "data": {
      "text/plain": [
       "Unnamed: 0                   36\n",
       "Name          Valess Wokstukjes\n",
       "Brand                    Valess\n",
       "Calories                    210\n",
       "Protein                    29.8\n",
       "Carbs                       0.2\n",
       "Sugars                     0.25\n",
       "Fats                        5.0\n",
       "Sodium                     0.25\n",
       "Iron                       0.25\n",
       "Product                 Kip/Wok\n",
       "Name: 36, dtype: object"
      ]
     },
     "execution_count": 199,
     "metadata": {},
     "output_type": "execute_result"
    }
   ],
   "source": [
    "min_carbs = df.loc[df['Carbs'].idxmin()]\n",
    "min_carbs"
   ]
  },
  {
   "cell_type": "code",
   "execution_count": 200,
   "id": "208bd597",
   "metadata": {},
   "outputs": [
    {
     "data": {
      "text/plain": [
       "Unnamed: 0                     29\n",
       "Name          Vivera Plantspekjes\n",
       "Brand                      Vivera\n",
       "Calories                       96\n",
       "Protein                      15.0\n",
       "Carbs                         5.9\n",
       "Sugars                        0.4\n",
       "Fats                          0.5\n",
       "Sodium                        0.4\n",
       "Iron                          0.5\n",
       "Product                      Spek\n",
       "Name: 29, dtype: object"
      ]
     },
     "execution_count": 200,
     "metadata": {},
     "output_type": "execute_result"
    }
   ],
   "source": [
    "min_fats = df.loc[df['Fats'].idxmin()]\n",
    "min_fats"
   ]
  },
  {
   "cell_type": "markdown",
   "id": "9a0fa9ff",
   "metadata": {},
   "source": [
    "## Beste opties:\n",
    "### - Valess Wokstukjes\n",
    "Laagste zout,\n",
    "Wins at lowest sodium, lowest carbs and highest protein\n",
    "### - Vivera plantspekjes (Bacon)\n",
    "Wins at lowest calories and lowest fats"
   ]
  },
  {
   "cell_type": "code",
   "execution_count": 201,
   "id": "72a10694",
   "metadata": {},
   "outputs": [
    {
     "data": {
      "text/html": [
       "<div>\n",
       "<style scoped>\n",
       "    .dataframe tbody tr th:only-of-type {\n",
       "        vertical-align: middle;\n",
       "    }\n",
       "\n",
       "    .dataframe tbody tr th {\n",
       "        vertical-align: top;\n",
       "    }\n",
       "\n",
       "    .dataframe thead th {\n",
       "        text-align: right;\n",
       "    }\n",
       "</style>\n",
       "<table border=\"1\" class=\"dataframe\">\n",
       "  <thead>\n",
       "    <tr style=\"text-align: right;\">\n",
       "      <th></th>\n",
       "      <th>Unnamed: 0</th>\n",
       "      <th>Name</th>\n",
       "      <th>Brand</th>\n",
       "      <th>Calories</th>\n",
       "      <th>Protein</th>\n",
       "      <th>Carbs</th>\n",
       "      <th>Sugars</th>\n",
       "      <th>Fats</th>\n",
       "      <th>Sodium</th>\n",
       "      <th>Iron</th>\n",
       "      <th>Product</th>\n",
       "    </tr>\n",
       "  </thead>\n",
       "  <tbody>\n",
       "    <tr>\n",
       "      <th>29</th>\n",
       "      <td>29</td>\n",
       "      <td>Vivera Plantspekjes</td>\n",
       "      <td>Vivera</td>\n",
       "      <td>96</td>\n",
       "      <td>15.0</td>\n",
       "      <td>5.9</td>\n",
       "      <td>0.40</td>\n",
       "      <td>0.5</td>\n",
       "      <td>0.40</td>\n",
       "      <td>0.50</td>\n",
       "      <td>Spek</td>\n",
       "    </tr>\n",
       "    <tr>\n",
       "      <th>36</th>\n",
       "      <td>36</td>\n",
       "      <td>Valess Wokstukjes</td>\n",
       "      <td>Valess</td>\n",
       "      <td>210</td>\n",
       "      <td>29.8</td>\n",
       "      <td>0.2</td>\n",
       "      <td>0.25</td>\n",
       "      <td>5.0</td>\n",
       "      <td>0.25</td>\n",
       "      <td>0.25</td>\n",
       "      <td>Kip/Wok</td>\n",
       "    </tr>\n",
       "  </tbody>\n",
       "</table>\n",
       "</div>"
      ],
      "text/plain": [
       "    Unnamed: 0                 Name   Brand  Calories  Protein  Carbs  Sugars  \\\n",
       "29          29  Vivera Plantspekjes  Vivera        96     15.0    5.9    0.40   \n",
       "36          36    Valess Wokstukjes  Valess       210     29.8    0.2    0.25   \n",
       "\n",
       "    Fats  Sodium  Iron  Product  \n",
       "29   0.5    0.40  0.50     Spek  \n",
       "36   5.0    0.25  0.25  Kip/Wok  "
      ]
     },
     "execution_count": 201,
     "metadata": {},
     "output_type": "execute_result"
    }
   ],
   "source": [
    "df2 = df.loc[df['Name'] == 'Vivera Plantspekjes']\n",
    "df3 = df.loc[df['Name'] == 'Valess Wokstukjes']\n",
    "df4 = df2.append(df3)\n",
    "df4"
   ]
  },
  {
   "cell_type": "code",
   "execution_count": 203,
   "id": "6f1351df",
   "metadata": {},
   "outputs": [
    {
     "data": {
      "image/png": "[encoded data removed]",
      "text/plain": [
       "<Figure size 432x288 with 1 Axes>"
      ]
     },
     "metadata": {
      "needs_background": "light"
     },
     "output_type": "display_data"
    }
   ],
   "source": [
    "labels = ['Protein', 'Carbs', 'Sugars', 'Fats', 'Sodium', 'Iron']\n",
    "vivera = [15, 5.9, 0.4, 0.5, 0.4, 0.5]\n",
    "valess = [29.8, 0.2, 0.25, 5.0, 0.25, 0.25]\n",
    "x = np.arange(len(labels))\n",
    "width = 0.35\n",
    "\n",
    "fig, ax = plt.subplots()\n",
    "rects1 = ax.bar(x - width/2, vivera, width, label='Vivera Plantspekjes')\n",
    "rects2 = ax.bar(x + width/2, valess, width, label='Valess Wokstukjes')\n",
    "\n",
    "ax.set_ylabel('grams')\n",
    "ax.set_title('Nutrition facts in grams')\n",
    "ax.set_xticks(x)\n",
    "ax.set_xticklabels(labels)\n",
    "ax.legend()\n",
    "\n",
    "fig.tight_layout()\n",
    "\n",
    "plt.show()"
   ]
  },
  {
   "cell_type": "code",
   "execution_count": null,
   "id": "85cb76b2",
   "metadata": {},
   "outputs": [],
   "source": []
  }
 ],
 "metadata": {
  "kernelspec": {
   "display_name": "Python 3",
   "language": "python",
   "name": "python3"
  },
  "language_info": {
   "codemirror_mode": {
    "name": "ipython",
    "version": 3
   },
   "file_extension": ".py",
   "mimetype": "text/x-python",
   "name": "python",
   "nbconvert_exporter": "python",
   "pygments_lexer": "ipython3",
   "version": "3.8.5"
  }
 },
 "nbformat": 4,
 "nbformat_minor": 5
}
